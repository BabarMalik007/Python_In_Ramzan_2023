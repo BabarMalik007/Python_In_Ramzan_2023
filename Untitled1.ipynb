{
 "cells": [
  {
   "cell_type": "code",
   "execution_count": null,
   "id": "37be24a2-fe2c-4531-b044-ed090037d6e7",
   "metadata": {},
   "outputs": [],
   "source": [
    "list1 [ 3 , \"BabaAamar\" ,True]\n",
    "list1"
   ]
  },
  {
   "cell_type": "markdown",
   "id": "0c89ebfc-3f33-44ba-9a3a-d182630de3e5",
   "metadata": {},
   "source": [
    "tup1"
   ]
  },
  {
   "cell_type": "code",
   "execution_count": null,
   "id": "b6c7a332-41db-47b5-aa5c-0cefaf79208d",
   "metadata": {},
   "outputs": [],
   "source": []
  },
  {
   "cell_type": "code",
   "execution_count": null,
   "id": "7ae5c19a-2ac0-49dc-81cf-8ee6cdd92fc6",
   "metadata": {},
   "outputs": [],
   "source": []
  }
 ],
 "metadata": {
  "kernelspec": {
   "display_name": "Python 3 (ipykernel)",
   "language": "python",
   "name": "python3"
  },
  "language_info": {
   "codemirror_mode": {
    "name": "ipython",
    "version": 3
   },
   "file_extension": ".py",
   "mimetype": "text/x-python",
   "name": "python",
   "nbconvert_exporter": "python",
   "pygments_lexer": "ipython3",
   "version": "3.11.7"
  }
 },
 "nbformat": 4,
 "nbformat_minor": 5
}
