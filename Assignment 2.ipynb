{
 "cells": [
  {
   "cell_type": "code",
   "execution_count": 1,
   "id": "ff9ad802-f83f-437b-aaef-e22f47e7b648",
   "metadata": {},
   "outputs": [
    {
     "data": {
      "text/plain": [
       "{'Golgappy': 120, 'Pholki': 50, 'Dahibaly': 150, 'Chhat': 80, 'Shoorma': 110}"
      ]
     },
     "execution_count": 1,
     "metadata": {},
     "output_type": "execute_result"
    }
   ],
   "source": [
    "###Dictionary### \n",
    "item1={\"Golgappy\":120 ,\"Pholki\": 50 , \"Dahibaly\":150, \"Chhat\":80 , \"Shoorma\" :110}\n",
    "item1"
   ]
  },
  {
   "cell_type": "code",
   "execution_count": 2,
   "id": "3fa9d544-7ffc-4ae1-855a-5d7b604344e8",
   "metadata": {},
   "outputs": [
    {
     "data": {
      "text/plain": [
       "dict"
      ]
     },
     "execution_count": 2,
     "metadata": {},
     "output_type": "execute_result"
    }
   ],
   "source": [
    "type(item1)"
   ]
  },
  {
   "cell_type": "code",
   "execution_count": 4,
   "id": "cc08e176-5c4a-4955-a8ef-c95d56b3be82",
   "metadata": {},
   "outputs": [
    {
     "data": {
      "text/plain": [
       "dict_keys(['Golgappy', 'Pholki', 'Dahibaly', 'Chhat', 'Shoorma'])"
      ]
     },
     "execution_count": 4,
     "metadata": {},
     "output_type": "execute_result"
    }
   ],
   "source": [
    "#extract data\n",
    "keys=item1.keys()\n",
    "keys"
   ]
  },
  {
   "cell_type": "code",
   "execution_count": 5,
   "id": "6f758460-c652-445a-817f-5e8f6dc67dab",
   "metadata": {},
   "outputs": [
    {
     "data": {
      "text/plain": [
       "dict_values([120, 50, 150, 80, 110])"
      ]
     },
     "execution_count": 5,
     "metadata": {},
     "output_type": "execute_result"
    }
   ],
   "source": [
    "item1.values()"
   ]
  },
  {
   "cell_type": "code",
   "execution_count": 10,
   "id": "fc57964d-f262-4600-88b3-c57f1a906cea",
   "metadata": {},
   "outputs": [
    {
     "ename": "SyntaxError",
     "evalue": "cannot assign to function call (2175290543.py, line 2)",
     "output_type": "error",
     "traceback": [
      "\u001b[0;36m  Cell \u001b[0;32mIn[10], line 2\u001b[0;36m\u001b[0m\n\u001b[0;31m    item1(\"burger\")=140\u001b[0m\n\u001b[0m    ^\u001b[0m\n\u001b[0;31mSyntaxError\u001b[0m\u001b[0;31m:\u001b[0m cannot assign to function call\n"
     ]
    }
   ],
   "source": [
    "#adding new element\n",
    "item1(\"burger\")=130"
   ]
  },
  {
   "cell_type": "code",
   "execution_count": 7,
   "id": "8621a9ab-0bfc-4c5c-a443-5ad32dd60698",
   "metadata": {},
   "outputs": [
    {
     "data": {
      "text/plain": [
       "{'Golgappy': 120,\n",
       " 'Pholki': 50,\n",
       " 'Dahibaly': 150,\n",
       " 'Chhat': 80,\n",
       " 'Shoorma': 110,\n",
       " 'burger': 130}"
      ]
     },
     "execution_count": 7,
     "metadata": {},
     "output_type": "execute_result"
    }
   ],
   "source": [
    "item1[\"burger\"]= 130\n",
    "item1"
   ]
  },
  {
   "cell_type": "code",
   "execution_count": 11,
   "id": "34759e13-ba7a-4806-be14-08e4e62fc16f",
   "metadata": {},
   "outputs": [
    {
     "data": {
      "text/plain": [
       "{'jeans ': 600, 'shirt': 450, 'tshirt': 500, 'coat ': 800, 'shoes': 750}"
      ]
     },
     "execution_count": 11,
     "metadata": {},
     "output_type": "execute_result"
    }
   ],
   "source": [
    "item2= {\"jeans \":600, \"shirt\":450, \"tshirt\" :500, \"coat \": 800 , \"shoes\" :750, }\n",
    "item2"
   ]
  },
  {
   "cell_type": "code",
   "execution_count": 13,
   "id": "a9620510-366f-4062-9e13-685c6f65eebb",
   "metadata": {},
   "outputs": [
    {
     "data": {
      "text/plain": [
       "{'Golgappy': 120,\n",
       " 'Pholki': 50,\n",
       " 'Dahibaly': 150,\n",
       " 'Chhat': 80,\n",
       " 'Shoorma': 110,\n",
       " 'burger': 130,\n",
       " 'jeans ': 600,\n",
       " 'shirt': 450,\n",
       " 'tshirt': 500,\n",
       " 'coat ': 800,\n",
       " 'shoes': 750}"
      ]
     },
     "execution_count": 13,
     "metadata": {},
     "output_type": "execute_result"
    }
   ],
   "source": [
    "#contatinate\n",
    "item1.update(item2)\n",
    "item1"
   ]
  },
  {
   "cell_type": "code",
   "execution_count": 14,
   "id": "58691ad9-46a4-4037-a9c4-54c69a456ed3",
   "metadata": {},
   "outputs": [],
   "source": [
    "###Set###"
   ]
  },
  {
   "cell_type": "code",
   "execution_count": 15,
   "id": "08e81db8-9847-4980-a15e-c4dfd4112ad1",
   "metadata": {},
   "outputs": [
    {
     "data": {
      "text/plain": [
       "{3.5, 5, 7, 786, 'Babag', 'Malik', True}"
      ]
     },
     "execution_count": 15,
     "metadata": {},
     "output_type": "execute_result"
    }
   ],
   "source": [
    "s1 ={5 , 7 , 3.5 , \"Malik\" , \"Babag\", 786, True}\n",
    "s1"
   ]
  },
  {
   "cell_type": "code",
   "execution_count": 16,
   "id": "07db1b90-e14d-4034-863b-cbb60dcf9aac",
   "metadata": {},
   "outputs": [
    {
     "data": {
      "text/plain": [
       "{3.5, 5, 7, 786, 'Babag', 'Malik', True}"
      ]
     },
     "execution_count": 16,
     "metadata": {},
     "output_type": "execute_result"
    }
   ],
   "source": [
    "s1.add(\"Malik\")\n",
    "s1"
   ]
  },
  {
   "cell_type": "code",
   "execution_count": 17,
   "id": "7dc141e6-e544-4cf5-bd01-7033eafd82d2",
   "metadata": {},
   "outputs": [
    {
     "data": {
      "text/plain": [
       "{3.5, 5, 7, 786, 'Babag', 'Malik', 'Malik1', True}"
      ]
     },
     "execution_count": 17,
     "metadata": {},
     "output_type": "execute_result"
    }
   ],
   "source": [
    "s1.add(\"Malik1\")\n",
    "s1"
   ]
  },
  {
   "cell_type": "code",
   "execution_count": 18,
   "id": "c3c6c8a1-94be-4d4c-8a34-94e0a770d655",
   "metadata": {},
   "outputs": [
    {
     "data": {
      "text/plain": [
       "{3.5, 5, 7, 786, 'Babag', 'Malik', True}"
      ]
     },
     "execution_count": 18,
     "metadata": {},
     "output_type": "execute_result"
    }
   ],
   "source": [
    "s1.remove(\"Malik1\")\n",
    "s1"
   ]
  },
  {
   "cell_type": "code",
   "execution_count": null,
   "id": "667cc7cf-a7dc-46b0-ad2d-b47da6e1f60b",
   "metadata": {},
   "outputs": [],
   "source": []
  }
 ],
 "metadata": {
  "kernelspec": {
   "display_name": "Python 3 (ipykernel)",
   "language": "python",
   "name": "python3"
  },
  "language_info": {
   "codemirror_mode": {
    "name": "ipython",
    "version": 3
   },
   "file_extension": ".py",
   "mimetype": "text/x-python",
   "name": "python",
   "nbconvert_exporter": "python",
   "pygments_lexer": "ipython3",
   "version": "3.9.7"
  }
 },
 "nbformat": 4,
 "nbformat_minor": 5
}
