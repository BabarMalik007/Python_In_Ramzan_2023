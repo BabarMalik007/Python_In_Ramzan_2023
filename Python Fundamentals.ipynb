{
 "cells": [
  {
   "cell_type": "markdown",
   "id": "df5e437e",
   "metadata": {},
   "source": [
    "# Todays' Agenda \n",
    "      - print()\n",
    "      - type of values \n",
    "      - variables\n",
    "      - Operators"
   ]
  },
  {
   "cell_type": "markdown",
   "id": "b30453c6",
   "metadata": {},
   "source": [
    "# Print()\n",
    "     - print() is python function.\n",
    "     - it prints anything(valid) provided on the console output."
   ]
  },
  {
   "cell_type": "code",
   "execution_count": 1,
   "id": "f459e8c9",
   "metadata": {},
   "outputs": [
    {
     "name": "stdout",
     "output_type": "stream",
     "text": [
      "Nasir Hussain\n"
     ]
    }
   ],
   "source": [
    "print(\"Nasir Hussain\")"
   ]
  },
  {
   "cell_type": "code",
   "execution_count": 2,
   "id": "3c1ef151",
   "metadata": {},
   "outputs": [
    {
     "name": "stdout",
     "output_type": "stream",
     "text": [
      "Nasir Hussain Sohail\n"
     ]
    }
   ],
   "source": [
    "print(\"Nasir Hussain\", \"Sohail\")"
   ]
  },
  {
   "cell_type": "code",
   "execution_count": 3,
   "id": "82adedeb",
   "metadata": {},
   "outputs": [
    {
     "name": "stdout",
     "output_type": "stream",
     "text": [
      "100\n"
     ]
    }
   ],
   "source": [
    "print(100)"
   ]
  },
  {
   "cell_type": "code",
   "execution_count": 4,
   "id": "fc4eb31c",
   "metadata": {},
   "outputs": [
    {
     "name": "stdout",
     "output_type": "stream",
     "text": [
      "1230\n"
     ]
    }
   ],
   "source": [
    "print(1230)"
   ]
  },
  {
   "cell_type": "code",
   "execution_count": 5,
   "id": "87a04c7f",
   "metadata": {},
   "outputs": [
    {
     "name": "stdout",
     "output_type": "stream",
     "text": [
      "12 3 45 6 7\n"
     ]
    }
   ],
   "source": [
    "print(12,3,45,6,7)"
   ]
  },
  {
   "cell_type": "code",
   "execution_count": 6,
   "id": "a98c2424",
   "metadata": {},
   "outputs": [
    {
     "name": "stdout",
     "output_type": "stream",
     "text": [
      "12.6\n"
     ]
    }
   ],
   "source": [
    "print(12.6)"
   ]
  },
  {
   "cell_type": "raw",
   "id": "a8507891",
   "metadata": {},
   "source": [
    "What we are supplying to print function are values. \n",
    "Question: how many type of values\n",
    "\n",
    "Values : Data >>>>> data types\n",
    "\n",
    "\n",
    " Text >>>>> String >> \"i am string\" >>> str\n",
    " Number >>>> \n",
    "         - Whole Numbers        >>>>> Integers   >>>>  int\n",
    "         - Decimal Numbers      >>>>> Floats     >>>>  float \n",
    "Boolean >>>> Yes/NO >>>> True/False   >>>>> bool\n",
    " "
   ]
  },
  {
   "cell_type": "code",
   "execution_count": 8,
   "id": "4a82b560",
   "metadata": {},
   "outputs": [
    {
     "name": "stdout",
     "output_type": "stream",
     "text": [
      "SMIT 100 500.5 True\n"
     ]
    }
   ],
   "source": [
    "print(\"SMIT\", 100, 500.5, True)"
   ]
  },
  {
   "cell_type": "code",
   "execution_count": 9,
   "id": "0bde489d",
   "metadata": {},
   "outputs": [
    {
     "data": {
      "text/plain": [
       "str"
      ]
     },
     "execution_count": 9,
     "metadata": {},
     "output_type": "execute_result"
    }
   ],
   "source": [
    "type(\"SMIT\")"
   ]
  },
  {
   "cell_type": "code",
   "execution_count": 10,
   "id": "95a0a518",
   "metadata": {},
   "outputs": [
    {
     "data": {
      "text/plain": [
       "int"
      ]
     },
     "execution_count": 10,
     "metadata": {},
     "output_type": "execute_result"
    }
   ],
   "source": [
    "type(234)"
   ]
  },
  {
   "cell_type": "code",
   "execution_count": 11,
   "id": "39f4142e",
   "metadata": {},
   "outputs": [
    {
     "data": {
      "text/plain": [
       "float"
      ]
     },
     "execution_count": 11,
     "metadata": {},
     "output_type": "execute_result"
    }
   ],
   "source": [
    "type(45.6)"
   ]
  },
  {
   "cell_type": "code",
   "execution_count": 12,
   "id": "84bceba1",
   "metadata": {},
   "outputs": [
    {
     "data": {
      "text/plain": [
       "bool"
      ]
     },
     "execution_count": 12,
     "metadata": {},
     "output_type": "execute_result"
    }
   ],
   "source": [
    "type(False)"
   ]
  },
  {
   "cell_type": "code",
   "execution_count": 20,
   "id": "a798e1f3",
   "metadata": {},
   "outputs": [
    {
     "name": "stdout",
     "output_type": "stream",
     "text": [
      "AhsunNasir\n"
     ]
    }
   ],
   "source": [
    "print(\"Ahsun\",\"Nasir\", sep=\"\")"
   ]
  },
  {
   "cell_type": "code",
   "execution_count": 23,
   "id": "080ab31e",
   "metadata": {},
   "outputs": [
    {
     "name": "stdout",
     "output_type": "stream",
     "text": [
      "Hello Python\n",
      "\n",
      "\n",
      "\n",
      "\n",
      "\n",
      "Hello Boys\n"
     ]
    }
   ],
   "source": [
    "print(\"Hello Python\", end=\"\\n\\n\\n\\n\\n\\n\")\n",
    "print(\"Hello Boys\")"
   ]
  },
  {
   "cell_type": "code",
   "execution_count": 24,
   "id": "73995df8",
   "metadata": {},
   "outputs": [
    {
     "ename": "SyntaxError",
     "evalue": "unterminated string literal (detected at line 1) (1514326339.py, line 1)",
     "output_type": "error",
     "traceback": [
      "\u001b[1;36m  Cell \u001b[1;32mIn[24], line 1\u001b[1;36m\u001b[0m\n\u001b[1;33m    print(\"Wow wew are now learning Python\u001b[0m\n\u001b[1;37m          ^\u001b[0m\n\u001b[1;31mSyntaxError\u001b[0m\u001b[1;31m:\u001b[0m unterminated string literal (detected at line 1)\n"
     ]
    }
   ],
   "source": [
    "print(\"Wow wew are now learning Python\n",
    "      Thank you SMIT\")"
   ]
  },
  {
   "cell_type": "code",
   "execution_count": 26,
   "id": "e05f8f57",
   "metadata": {},
   "outputs": [
    {
     "name": "stdout",
     "output_type": "stream",
     "text": [
      "Wow we \n",
      "are now learning Python.\n",
      "Thank you SMIT\n"
     ]
    }
   ],
   "source": [
    "print(\"Wow we \\nare now learning Python.\\nThank you SMIT\")"
   ]
  },
  {
   "cell_type": "markdown",
   "id": "03f30159",
   "metadata": {},
   "source": [
    "# String kese kese bana sakte hen "
   ]
  },
  {
   "cell_type": "code",
   "execution_count": 27,
   "id": "138fe971",
   "metadata": {},
   "outputs": [
    {
     "data": {
      "text/plain": [
       "'I am double quote string'"
      ]
     },
     "execution_count": 27,
     "metadata": {},
     "output_type": "execute_result"
    }
   ],
   "source": [
    "\"I am double quote string\""
   ]
  },
  {
   "cell_type": "code",
   "execution_count": 28,
   "id": "33849fe0",
   "metadata": {},
   "outputs": [
    {
     "data": {
      "text/plain": [
       "'I am single quote string'"
      ]
     },
     "execution_count": 28,
     "metadata": {},
     "output_type": "execute_result"
    }
   ],
   "source": [
    "'I am single quote string'"
   ]
  },
  {
   "cell_type": "code",
   "execution_count": 29,
   "id": "96227b59",
   "metadata": {},
   "outputs": [
    {
     "data": {
      "text/plain": [
       "'I m a tripple quote string'"
      ]
     },
     "execution_count": 29,
     "metadata": {},
     "output_type": "execute_result"
    }
   ],
   "source": [
    "\"\"\"I m a tripple quote string\"\"\""
   ]
  },
  {
   "cell_type": "code",
   "execution_count": 30,
   "id": "b6429a46",
   "metadata": {},
   "outputs": [
    {
     "data": {
      "text/plain": [
       "'I m a single tripple quote string'"
      ]
     },
     "execution_count": 30,
     "metadata": {},
     "output_type": "execute_result"
    }
   ],
   "source": [
    "'''I m a single tripple quote string'''"
   ]
  },
  {
   "cell_type": "raw",
   "id": "4a5f9734",
   "metadata": {},
   "source": [
    "       SMIT\n",
    "   Name: Nasir\n",
    "   Course: Python\n",
    "   Days: Tuesday and Thursday\n",
    "   Campus: HO-Bahadurabad\n",
    "   Time  : 7-9\n",
    "   "
   ]
  },
  {
   "cell_type": "code",
   "execution_count": 38,
   "id": "aa8c6311",
   "metadata": {},
   "outputs": [
    {
     "name": "stdout",
     "output_type": "stream",
     "text": [
      "\t\tSMIT\n",
      " \tName: Nasir\n",
      "\tCourse:Python\n",
      "\tDays:Tuesday and Thursday\n",
      "\tCampus: HO-Bahadurabad\n",
      "\tTime  : 7-9\n"
     ]
    }
   ],
   "source": [
    "print(\"\\t\\tSMIT\\n \\tName: Nasir\\n\\tCourse:Python\\n\\tDays:Tuesday and Thursday\\n\\tCampus: HO-Bahadurabad\\n\\tTime  : 7-9\")"
   ]
  },
  {
   "cell_type": "code",
   "execution_count": 39,
   "id": "9fe07eb3",
   "metadata": {},
   "outputs": [
    {
     "name": "stdout",
     "output_type": "stream",
     "text": [
      "\n",
      "           SMIT\n",
      "   Name: Nasir\n",
      "   Course: Python\n",
      "   Days: Tuesday and Thursday\n",
      "   Campus: HO-Bahadurabad\n",
      "   Time  : 7-9\n",
      "\n"
     ]
    }
   ],
   "source": [
    "print(\"\"\"\n",
    "           SMIT\n",
    "   Name: Nasir\n",
    "   Course: Python\n",
    "   Days: Tuesday and Thursday\n",
    "   Campus: HO-Bahadurabad\n",
    "   Time  : 7-9\n",
    "\"\"\")"
   ]
  },
  {
   "cell_type": "markdown",
   "id": "1e54c991",
   "metadata": {},
   "source": [
    "# Variables\n",
    "     - Variables are identifiers\n",
    "     - They are containers\n",
    "     "
   ]
  },
  {
   "cell_type": "code",
   "execution_count": 51,
   "id": "65122d87",
   "metadata": {},
   "outputs": [],
   "source": [
    "student = \"Ahsun Khan\""
   ]
  },
  {
   "cell_type": "raw",
   "id": "22d24103",
   "metadata": {},
   "source": [
    "students >>>>> identifier\n",
    "               variable name\n",
    "               contianer name\n",
    "=       >>>>>  operator (assignment operator)\n",
    "\"Ahsun Khan\"  >>>> value >>>> string type\n",
    "\n",
    "\n",
    "A string type value \"Ahsun Khan\" is assigned in variable students"
   ]
  },
  {
   "cell_type": "code",
   "execution_count": 41,
   "id": "06e4fb03",
   "metadata": {},
   "outputs": [
    {
     "name": "stdout",
     "output_type": "stream",
     "text": [
      "Ahsun Khan\n"
     ]
    }
   ],
   "source": [
    "print(student)"
   ]
  },
  {
   "cell_type": "code",
   "execution_count": 42,
   "id": "0b02278b",
   "metadata": {},
   "outputs": [
    {
     "data": {
      "text/plain": [
       "2576283936688"
      ]
     },
     "execution_count": 42,
     "metadata": {},
     "output_type": "execute_result"
    }
   ],
   "source": [
    "id(student)"
   ]
  },
  {
   "cell_type": "code",
   "execution_count": 49,
   "id": "c4cf5d6d",
   "metadata": {},
   "outputs": [],
   "source": [
    "student = \"Nasir Hussain\""
   ]
  },
  {
   "cell_type": "code",
   "execution_count": 44,
   "id": "312b8de1",
   "metadata": {},
   "outputs": [
    {
     "name": "stdout",
     "output_type": "stream",
     "text": [
      "Nasir Hussain\n"
     ]
    }
   ],
   "source": [
    "print(student)"
   ]
  },
  {
   "cell_type": "code",
   "execution_count": 50,
   "id": "c2248e76",
   "metadata": {},
   "outputs": [
    {
     "data": {
      "text/plain": [
       "2576284407472"
      ]
     },
     "execution_count": 50,
     "metadata": {},
     "output_type": "execute_result"
    }
   ],
   "source": [
    "type(student)\n",
    "id(student)"
   ]
  },
  {
   "cell_type": "code",
   "execution_count": 46,
   "id": "4de3a2f6",
   "metadata": {},
   "outputs": [],
   "source": [
    "student = 123456"
   ]
  },
  {
   "cell_type": "code",
   "execution_count": 47,
   "id": "4af993db",
   "metadata": {},
   "outputs": [
    {
     "name": "stdout",
     "output_type": "stream",
     "text": [
      "123456\n"
     ]
    }
   ],
   "source": [
    "print(student)"
   ]
  },
  {
   "cell_type": "code",
   "execution_count": 48,
   "id": "a7a18c6e",
   "metadata": {},
   "outputs": [
    {
     "data": {
      "text/plain": [
       "2576287064144"
      ]
     },
     "execution_count": 48,
     "metadata": {},
     "output_type": "execute_result"
    }
   ],
   "source": [
    "id(student)"
   ]
  },
  {
   "cell_type": "code",
   "execution_count": 52,
   "id": "a1a9485f",
   "metadata": {},
   "outputs": [],
   "source": [
    "number = 100"
   ]
  },
  {
   "cell_type": "code",
   "execution_count": 53,
   "id": "13d8eb2b",
   "metadata": {},
   "outputs": [],
   "source": [
    "is_present = False"
   ]
  },
  {
   "cell_type": "code",
   "execution_count": 54,
   "id": "b66b4dbb",
   "metadata": {},
   "outputs": [],
   "source": [
    "percentage = 78.8"
   ]
  },
  {
   "cell_type": "markdown",
   "id": "a889ce0b",
   "metadata": {},
   "source": [
    "# Variable Naming Legal and Illegal "
   ]
  },
  {
   "cell_type": "markdown",
   "id": "6291315f",
   "metadata": {},
   "source": [
    " - python used words (reserved words) are not allowed as variable name\n",
    " - there can be no space in variable name\n",
    " - variable name can not be started with a number\n",
    " - Special character are not allowed (@,#,$,%,^,&,)\n",
    " "
   ]
  },
  {
   "cell_type": "raw",
   "id": "e999a9ac",
   "metadata": {},
   "source": [
    "List of Reserved Words : \n",
    "\n",
    "False\tdef\tif\traise\n",
    "None\tdel\timport\treturn\n",
    "True\telif\tin\ttry\n",
    "and\telse\tis\twhile\n",
    "as\texcept\tlambda\twith\n",
    "assert\tfinally\tnonlocal\tyield\n",
    "break\tfor\tnot\n",
    "class\tform\tor\n",
    "continue\tglobal\tpass\n"
   ]
  },
  {
   "cell_type": "code",
   "execution_count": 57,
   "id": "517636ff",
   "metadata": {},
   "outputs": [
    {
     "ename": "SyntaxError",
     "evalue": "invalid syntax (3876829238.py, line 1)",
     "output_type": "error",
     "traceback": [
      "\u001b[1;36m  Cell \u001b[1;32mIn[57], line 1\u001b[1;36m\u001b[0m\n\u001b[1;33m    global = 123\u001b[0m\n\u001b[1;37m           ^\u001b[0m\n\u001b[1;31mSyntaxError\u001b[0m\u001b[1;31m:\u001b[0m invalid syntax\n"
     ]
    }
   ],
   "source": [
    "global = 123"
   ]
  },
  {
   "cell_type": "code",
   "execution_count": 58,
   "id": "43fa4b2d",
   "metadata": {},
   "outputs": [
    {
     "ename": "SyntaxError",
     "evalue": "invalid syntax (186596501.py, line 1)",
     "output_type": "error",
     "traceback": [
      "\u001b[1;36m  Cell \u001b[1;32mIn[58], line 1\u001b[1;36m\u001b[0m\n\u001b[1;33m    father name = \"Khalil Bhai\"\u001b[0m\n\u001b[1;37m           ^\u001b[0m\n\u001b[1;31mSyntaxError\u001b[0m\u001b[1;31m:\u001b[0m invalid syntax\n"
     ]
    }
   ],
   "source": [
    "father name = \"Khalil Bhai\""
   ]
  },
  {
   "cell_type": "code",
   "execution_count": 59,
   "id": "c3cb9f8a",
   "metadata": {},
   "outputs": [
    {
     "ename": "SyntaxError",
     "evalue": "invalid decimal literal (3060037044.py, line 1)",
     "output_type": "error",
     "traceback": [
      "\u001b[1;36m  Cell \u001b[1;32mIn[59], line 1\u001b[1;36m\u001b[0m\n\u001b[1;33m    1stprize = \"nasir\"\u001b[0m\n\u001b[1;37m    ^\u001b[0m\n\u001b[1;31mSyntaxError\u001b[0m\u001b[1;31m:\u001b[0m invalid decimal literal\n"
     ]
    }
   ],
   "source": [
    "1stprize = \"nasir\" "
   ]
  },
  {
   "cell_type": "code",
   "execution_count": 60,
   "id": "8678c7a8",
   "metadata": {},
   "outputs": [
    {
     "ename": "SyntaxError",
     "evalue": "cannot assign to expression here. Maybe you meant '==' instead of '='? (4128869008.py, line 1)",
     "output_type": "error",
     "traceback": [
      "\u001b[1;36m  Cell \u001b[1;32mIn[60], line 1\u001b[1;36m\u001b[0m\n\u001b[1;33m    n@me = \"Nasir\"\u001b[0m\n\u001b[1;37m    ^\u001b[0m\n\u001b[1;31mSyntaxError\u001b[0m\u001b[1;31m:\u001b[0m cannot assign to expression here. Maybe you meant '==' instead of '='?\n"
     ]
    }
   ],
   "source": [
    "n@me = \"Nasir\""
   ]
  },
  {
   "cell_type": "code",
   "execution_count": 62,
   "id": "d34488b3",
   "metadata": {},
   "outputs": [],
   "source": [
    "father_name = \"Khalil Bhai\"\n",
    "fatherName = \"Khalil Bhai\"\n",
    "fathername = \"Khalil Bhai\""
   ]
  },
  {
   "cell_type": "code",
   "execution_count": 63,
   "id": "151df08d",
   "metadata": {},
   "outputs": [],
   "source": [
    "my_first_book_on_coding_is_python_for_kids = \"Programming for kids\""
   ]
  },
  {
   "cell_type": "code",
   "execution_count": 64,
   "id": "76f2781e",
   "metadata": {},
   "outputs": [],
   "source": [
    "myFirstBookOnCodingIsPythonForKids=\"Programming for kids\""
   ]
  },
  {
   "cell_type": "markdown",
   "id": "dd21fbae",
   "metadata": {},
   "source": [
    "# Operators\n",
    "          Arithmetic  \n",
    "                   - Addition(+)\n",
    "                   - Subtraction(-)\n",
    "                   - Multiplication (*)\n",
    "                   - Float Division (/)\n",
    "                   - Integer Division(//)\n",
    "                   - Power (**)\n",
    "                   - Remainder (%)\n",
    "                   - Assignment (=)\n",
    "                   \n",
    "                   "
   ]
  },
  {
   "cell_type": "code",
   "execution_count": 66,
   "id": "ab22b040",
   "metadata": {},
   "outputs": [
    {
     "data": {
      "text/plain": [
       "16"
      ]
     },
     "execution_count": 66,
     "metadata": {},
     "output_type": "execute_result"
    }
   ],
   "source": [
    "12 + 4"
   ]
  },
  {
   "cell_type": "code",
   "execution_count": 67,
   "id": "6c84b294",
   "metadata": {},
   "outputs": [
    {
     "data": {
      "text/plain": [
       "556"
      ]
     },
     "execution_count": 67,
     "metadata": {},
     "output_type": "execute_result"
    }
   ],
   "source": [
    "1234- 678"
   ]
  },
  {
   "cell_type": "code",
   "execution_count": 68,
   "id": "3b9169b9",
   "metadata": {},
   "outputs": [
    {
     "data": {
      "text/plain": [
       "72"
      ]
     },
     "execution_count": 68,
     "metadata": {},
     "output_type": "execute_result"
    }
   ],
   "source": [
    "12 *6"
   ]
  },
  {
   "cell_type": "code",
   "execution_count": 70,
   "id": "f2e56dd9",
   "metadata": {},
   "outputs": [
    {
     "data": {
      "text/plain": [
       "2.4"
      ]
     },
     "execution_count": 70,
     "metadata": {},
     "output_type": "execute_result"
    }
   ],
   "source": [
    "12/5"
   ]
  },
  {
   "cell_type": "code",
   "execution_count": 71,
   "id": "4f471ecb",
   "metadata": {},
   "outputs": [
    {
     "data": {
      "text/plain": [
       "2"
      ]
     },
     "execution_count": 71,
     "metadata": {},
     "output_type": "execute_result"
    }
   ],
   "source": [
    "12//5"
   ]
  },
  {
   "cell_type": "code",
   "execution_count": 72,
   "id": "3599d7d8",
   "metadata": {},
   "outputs": [
    {
     "data": {
      "text/plain": [
       "8"
      ]
     },
     "execution_count": 72,
     "metadata": {},
     "output_type": "execute_result"
    }
   ],
   "source": [
    "2**3"
   ]
  },
  {
   "cell_type": "code",
   "execution_count": 75,
   "id": "50b78b70",
   "metadata": {},
   "outputs": [],
   "source": [
    "num1 = 23\n",
    "num2 = 34"
   ]
  },
  {
   "cell_type": "code",
   "execution_count": 76,
   "id": "205ba306",
   "metadata": {},
   "outputs": [
    {
     "data": {
      "text/plain": [
       "57"
      ]
     },
     "execution_count": 76,
     "metadata": {},
     "output_type": "execute_result"
    }
   ],
   "source": [
    "num1 + num2 "
   ]
  },
  {
   "cell_type": "code",
   "execution_count": 77,
   "id": "a6dff6ba",
   "metadata": {},
   "outputs": [
    {
     "data": {
      "text/plain": [
       "10.0"
      ]
     },
     "execution_count": 77,
     "metadata": {},
     "output_type": "execute_result"
    }
   ],
   "source": [
    "20/2"
   ]
  },
  {
   "cell_type": "code",
   "execution_count": 78,
   "id": "d6a019ae",
   "metadata": {},
   "outputs": [
    {
     "data": {
      "text/plain": [
       "0"
      ]
     },
     "execution_count": 78,
     "metadata": {},
     "output_type": "execute_result"
    }
   ],
   "source": [
    "20%2"
   ]
  },
  {
   "cell_type": "markdown",
   "id": "ff47e553",
   "metadata": {},
   "source": [
    "# Class3(28May2024)"
   ]
  },
  {
   "cell_type": "markdown",
   "id": "398e58a8",
   "metadata": {},
   "source": [
    "## Operator Ambiguity: Solving Expression "
   ]
  },
  {
   "cell_type": "markdown",
   "id": "e3d90a60",
   "metadata": {},
   "source": [
    "# Comparision Operators: \n",
    "     - == (equal to)\n",
    "     - != (not equal to)\n",
    "     - > greater than\n",
    "     - < less than\n",
    "     - >=\n",
    "     - <=\n",
    "     - in \n",
    "     - and \n",
    "     - or \n",
    "     - not\n",
    "    \n",
    "        "
   ]
  },
  {
   "cell_type": "code",
   "execution_count": 1,
   "id": "470e72c0",
   "metadata": {},
   "outputs": [
    {
     "data": {
      "text/plain": [
       "False"
      ]
     },
     "execution_count": 1,
     "metadata": {},
     "output_type": "execute_result"
    }
   ],
   "source": [
    "not(True)"
   ]
  },
  {
   "cell_type": "code",
   "execution_count": 3,
   "id": "8db1389d",
   "metadata": {},
   "outputs": [
    {
     "data": {
      "text/plain": [
       "True"
      ]
     },
     "execution_count": 3,
     "metadata": {},
     "output_type": "execute_result"
    }
   ],
   "source": [
    "\"i\" in \"Pakistan\""
   ]
  },
  {
   "cell_type": "code",
   "execution_count": 4,
   "id": "f8a8ea5d",
   "metadata": {},
   "outputs": [],
   "source": [
    "import math "
   ]
  },
  {
   "cell_type": "code",
   "execution_count": 7,
   "id": "739a1c13",
   "metadata": {},
   "outputs": [
    {
     "data": {
      "text/plain": [
       "12"
      ]
     },
     "execution_count": 7,
     "metadata": {},
     "output_type": "execute_result"
    }
   ],
   "source": [
    "math.floor(12.9)"
   ]
  },
  {
   "cell_type": "code",
   "execution_count": 8,
   "id": "8712566b",
   "metadata": {},
   "outputs": [
    {
     "data": {
      "text/plain": [
       "13"
      ]
     },
     "execution_count": 8,
     "metadata": {},
     "output_type": "execute_result"
    }
   ],
   "source": [
    "math.ceil(12.0001)"
   ]
  },
  {
   "cell_type": "code",
   "execution_count": 10,
   "id": "10d47731",
   "metadata": {},
   "outputs": [
    {
     "data": {
      "text/plain": [
       "2"
      ]
     },
     "execution_count": 10,
     "metadata": {},
     "output_type": "execute_result"
    }
   ],
   "source": [
    "12//5"
   ]
  },
  {
   "cell_type": "code",
   "execution_count": 11,
   "id": "d3af7571",
   "metadata": {},
   "outputs": [
    {
     "data": {
      "text/plain": [
       "True"
      ]
     },
     "execution_count": 11,
     "metadata": {},
     "output_type": "execute_result"
    }
   ],
   "source": [
    "3 != 3 or 5 > 4"
   ]
  },
  {
   "cell_type": "code",
   "execution_count": 12,
   "id": "41b92965",
   "metadata": {},
   "outputs": [
    {
     "data": {
      "text/plain": [
       "False"
      ]
     },
     "execution_count": 12,
     "metadata": {},
     "output_type": "execute_result"
    }
   ],
   "source": [
    "10 == 10 and 5 > 6"
   ]
  },
  {
   "cell_type": "code",
   "execution_count": 13,
   "id": "8f04f938",
   "metadata": {},
   "outputs": [
    {
     "data": {
      "text/plain": [
       "4.0"
      ]
     },
     "execution_count": 13,
     "metadata": {},
     "output_type": "execute_result"
    }
   ],
   "source": [
    "12/3"
   ]
  },
  {
   "cell_type": "code",
   "execution_count": 15,
   "id": "c0e450a5",
   "metadata": {},
   "outputs": [
    {
     "data": {
      "text/plain": [
       "2.0"
      ]
     },
     "execution_count": 15,
     "metadata": {},
     "output_type": "execute_result"
    }
   ],
   "source": [
    "12.0//5"
   ]
  },
  {
   "cell_type": "code",
   "execution_count": 16,
   "id": "93f56365",
   "metadata": {},
   "outputs": [
    {
     "data": {
      "text/plain": [
       "10.0"
      ]
     },
     "execution_count": 16,
     "metadata": {},
     "output_type": "execute_result"
    }
   ],
   "source": [
    "8 / 2 + 2 * 3"
   ]
  },
  {
   "cell_type": "code",
   "execution_count": 17,
   "id": "b946aff2",
   "metadata": {},
   "outputs": [
    {
     "data": {
      "text/plain": [
       "False"
      ]
     },
     "execution_count": 17,
     "metadata": {},
     "output_type": "execute_result"
    }
   ],
   "source": [
    "10 > 5 < 2"
   ]
  },
  {
   "cell_type": "code",
   "execution_count": 18,
   "id": "b5a66edf",
   "metadata": {},
   "outputs": [
    {
     "data": {
      "text/plain": [
       "'HelloHelloHello'"
      ]
     },
     "execution_count": 18,
     "metadata": {},
     "output_type": "execute_result"
    }
   ],
   "source": [
    "3 * \"Hello\""
   ]
  },
  {
   "cell_type": "code",
   "execution_count": 19,
   "id": "3a3b2faf",
   "metadata": {},
   "outputs": [
    {
     "data": {
      "text/plain": [
       "-3"
      ]
     },
     "execution_count": 19,
     "metadata": {},
     "output_type": "execute_result"
    }
   ],
   "source": [
    "-5 // 2"
   ]
  },
  {
   "cell_type": "code",
   "execution_count": 20,
   "id": "6d6c664c",
   "metadata": {},
   "outputs": [
    {
     "data": {
      "text/plain": [
       "18"
      ]
     },
     "execution_count": 20,
     "metadata": {},
     "output_type": "execute_result"
    }
   ],
   "source": [
    "8 % 3 + 2 ** 2 * (2 + 2)"
   ]
  },
  {
   "cell_type": "code",
   "execution_count": 22,
   "id": "22319060",
   "metadata": {},
   "outputs": [
    {
     "data": {
      "text/plain": [
       "8.4"
      ]
     },
     "execution_count": 22,
     "metadata": {},
     "output_type": "execute_result"
    }
   ],
   "source": [
    "(12+30)/5"
   ]
  },
  {
   "cell_type": "code",
   "execution_count": 23,
   "id": "ce1841e8",
   "metadata": {},
   "outputs": [
    {
     "data": {
      "text/plain": [
       "5.0"
      ]
     },
     "execution_count": 23,
     "metadata": {},
     "output_type": "execute_result"
    }
   ],
   "source": [
    "(3 + 2) * 4 / 2 ** 2"
   ]
  },
  {
   "cell_type": "code",
   "execution_count": 24,
   "id": "3b761c02",
   "metadata": {},
   "outputs": [
    {
     "name": "stdout",
     "output_type": "stream",
     "text": [
      "10\n"
     ]
    }
   ],
   "source": [
    "x = 5\n",
    "y = x * 2 if x < 10 else x / 2\n",
    "print(y)"
   ]
  },
  {
   "cell_type": "code",
   "execution_count": 29,
   "id": "de431db2",
   "metadata": {},
   "outputs": [
    {
     "name": "stdout",
     "output_type": "stream",
     "text": [
      "Please enter a value for x2\n",
      "4\n"
     ]
    }
   ],
   "source": [
    "x =int(input(\"Please enter a value for x\"))\n",
    "y = x * 2 if x < 10 else x / 2\n",
    "print(y)"
   ]
  },
  {
   "cell_type": "code",
   "execution_count": 30,
   "id": "0e462090",
   "metadata": {},
   "outputs": [
    {
     "data": {
      "text/plain": [
       "2.56"
      ]
     },
     "execution_count": 30,
     "metadata": {},
     "output_type": "execute_result"
    }
   ],
   "source": [
    "round(2.564, 2)"
   ]
  },
  {
   "cell_type": "markdown",
   "id": "0034f534",
   "metadata": {},
   "source": [
    "# Truthy "
   ]
  },
  {
   "cell_type": "code",
   "execution_count": 34,
   "id": "df8452bd",
   "metadata": {},
   "outputs": [
    {
     "data": {
      "text/plain": [
       "12"
      ]
     },
     "execution_count": 34,
     "metadata": {},
     "output_type": "execute_result"
    }
   ],
   "source": [
    "12 or 20 or 3 or 5 or 678"
   ]
  },
  {
   "cell_type": "code",
   "execution_count": 33,
   "id": "e3de722d",
   "metadata": {},
   "outputs": [
    {
     "data": {
      "text/plain": [
       "5"
      ]
     },
     "execution_count": 33,
     "metadata": {},
     "output_type": "execute_result"
    }
   ],
   "source": [
    "12 and 20 and 23 and 1 and 5"
   ]
  },
  {
   "cell_type": "markdown",
   "id": "de64be2d",
   "metadata": {},
   "source": [
    "# Conditional Statments / Control Flow\n",
    "  - if else\n",
    "  - if elif else\n",
    "  "
   ]
  },
  {
   "cell_type": "code",
   "execution_count": 37,
   "id": "87c4ec06",
   "metadata": {},
   "outputs": [
    {
     "name": "stdout",
     "output_type": "stream",
     "text": [
      "Khana Pakana hy\n",
      "Python Parhni hy\n"
     ]
    }
   ],
   "source": [
    "a =10\n",
    "b= 20 \n",
    "\n",
    "if a < b:\n",
    "    print(\"Khana Pakana hy\")\n",
    "    print(\"Python Parhni hy\")"
   ]
  },
  {
   "cell_type": "code",
   "execution_count": 38,
   "id": "ba6c8310",
   "metadata": {},
   "outputs": [],
   "source": [
    "a =100\n",
    "b= 20 \n",
    "\n",
    "if a < b:\n",
    "    print(\"Khana Pakana hy\")\n",
    "    print(\"Python Parhni hy\")"
   ]
  },
  {
   "cell_type": "code",
   "execution_count": 39,
   "id": "3a5622a5",
   "metadata": {},
   "outputs": [
    {
     "name": "stdout",
     "output_type": "stream",
     "text": [
      "Khana Pakana hy\n",
      "Python Parhni hy\n"
     ]
    }
   ],
   "source": [
    "a =10\n",
    "b= 20 \n",
    "\n",
    "if a < b:\n",
    "    print(\"Khana Pakana hy\")\n",
    "    print(\"Python Parhni hy\")\n",
    "else:\n",
    "    print(\"Sojana\")"
   ]
  },
  {
   "cell_type": "code",
   "execution_count": 40,
   "id": "7d12214a",
   "metadata": {},
   "outputs": [
    {
     "name": "stdout",
     "output_type": "stream",
     "text": [
      "Sojana\n"
     ]
    }
   ],
   "source": [
    "a =101\n",
    "b= 20 \n",
    "\n",
    "if a < b:\n",
    "    print(\"Khana Pakana hy\")\n",
    "    print(\"Python Parhni hy\")\n",
    "else:\n",
    "    print(\"Sojana\")"
   ]
  },
  {
   "cell_type": "code",
   "execution_count": 41,
   "id": "aeb66e80",
   "metadata": {},
   "outputs": [
    {
     "name": "stdout",
     "output_type": "stream",
     "text": [
      "Anday kia hisab hen40\n"
     ]
    },
    {
     "ename": "TypeError",
     "evalue": "'<' not supported between instances of 'str' and 'int'",
     "output_type": "error",
     "traceback": [
      "\u001b[1;31m---------------------------------------------------------------------------\u001b[0m",
      "\u001b[1;31mTypeError\u001b[0m                                 Traceback (most recent call last)",
      "Cell \u001b[1;32mIn[41], line 3\u001b[0m\n\u001b[0;32m      1\u001b[0m price \u001b[38;5;241m=\u001b[39m \u001b[38;5;28minput\u001b[39m(\u001b[38;5;124m\"\u001b[39m\u001b[38;5;124mAnday kia hisab hen\u001b[39m\u001b[38;5;124m\"\u001b[39m)\n\u001b[1;32m----> 3\u001b[0m \u001b[38;5;28;01mif\u001b[39;00m price \u001b[38;5;241m<\u001b[39m\u001b[38;5;241m20\u001b[39m:\n\u001b[0;32m      4\u001b[0m     \u001b[38;5;28mprint\u001b[39m(\u001b[38;5;124m\"\u001b[39m\u001b[38;5;124mEk darjan dedo\u001b[39m\u001b[38;5;124m\"\u001b[39m)\n\u001b[0;32m      5\u001b[0m \u001b[38;5;28;01melse\u001b[39;00m:\n",
      "\u001b[1;31mTypeError\u001b[0m: '<' not supported between instances of 'str' and 'int'"
     ]
    }
   ],
   "source": [
    "price = input(\"Anday kia hisab hen\")\n",
    "\n",
    "if price <20:\n",
    "    print(\"Ek darjan dedo\")\n",
    "else:\n",
    "    print(\"Ek dedo\")"
   ]
  },
  {
   "cell_type": "code",
   "execution_count": 44,
   "id": "947ec56a",
   "metadata": {},
   "outputs": [
    {
     "name": "stdout",
     "output_type": "stream",
     "text": [
      "Anday kia hisab hen56\n",
      "<class 'str'>\n"
     ]
    },
    {
     "data": {
      "text/plain": [
       "'56'"
      ]
     },
     "execution_count": 44,
     "metadata": {},
     "output_type": "execute_result"
    }
   ],
   "source": [
    "price = input(\"Anday kia hisab hen\")\n",
    "\n",
    "print(type(price))\n",
    "price\n"
   ]
  },
  {
   "cell_type": "code",
   "execution_count": 43,
   "id": "ff26a772",
   "metadata": {},
   "outputs": [
    {
     "data": {
      "text/plain": [
       "45"
      ]
     },
     "execution_count": 43,
     "metadata": {},
     "output_type": "execute_result"
    }
   ],
   "source": [
    "int(\"45\")"
   ]
  },
  {
   "cell_type": "code",
   "execution_count": 46,
   "id": "0a880a9d",
   "metadata": {},
   "outputs": [
    {
     "name": "stdout",
     "output_type": "stream",
     "text": [
      "Anday kia hisab hen10\n",
      "Ek darjan dedo\n"
     ]
    }
   ],
   "source": [
    "price = int(input(\"Anday kia hisab hen\"))\n",
    "if price <20:\n",
    "    print(\"Ek darjan dedo\")\n",
    "else:\n",
    "    print(\"Ek dedo\")"
   ]
  },
  {
   "cell_type": "code",
   "execution_count": 48,
   "id": "0590056e",
   "metadata": {},
   "outputs": [
    {
     "name": "stdout",
     "output_type": "stream",
     "text": [
      "Enter your marks45\n",
      "Fail\n"
     ]
    }
   ],
   "source": [
    "marks = int(input(\"Enter your marks\"))\n",
    "\n",
    "if marks<50:\n",
    "    print(\"Fail\")\n",
    "else:\n",
    "    print(\"Pass\")"
   ]
  },
  {
   "cell_type": "code",
   "execution_count": 50,
   "id": "0b484533",
   "metadata": {},
   "outputs": [
    {
     "name": "stdout",
     "output_type": "stream",
     "text": [
      "Tamater kia kilo hen200\n",
      "dahi kka hisab hy80\n",
      "1 kilo dahi dedo\n"
     ]
    }
   ],
   "source": [
    "price = int(input(\"Tamater kia kilo hen\"))\n",
    "dahi_price = int(input(\"dahi kka hisab hy\"))\n",
    "\n",
    "if price <100:\n",
    "    print(\"2 Kilo dedo\")\n",
    "elif dahi_price <100:\n",
    "    print(\"1 kilo dahi dedo\")\n",
    "else:\n",
    "    print(\"Wapas ajana\")"
   ]
  },
  {
   "cell_type": "markdown",
   "id": "90ca8412",
   "metadata": {},
   "source": [
    "# Class4(30May2024)"
   ]
  },
  {
   "cell_type": "code",
   "execution_count": 2,
   "id": "11c6a28c",
   "metadata": {},
   "outputs": [
    {
     "name": "stdout",
     "output_type": "stream",
     "text": [
      "Enter purchase amt2000\n",
      "You 5% discount\n"
     ]
    }
   ],
   "source": [
    "purchase_amt = int(input(\"Enter purchase amt\"))\n",
    "\n",
    "if purchase_amt>=10000:\n",
    "    print(\"You got 10% discount\")\n",
    "else:\n",
    "    print(\"You 5% discount\")"
   ]
  },
  {
   "cell_type": "code",
   "execution_count": 14,
   "id": "d25e73ee",
   "metadata": {},
   "outputs": [
    {
     "name": "stdout",
     "output_type": "stream",
     "text": [
      "Enter shoes price1\n",
      "Enter glasses price2\n",
      "Enter shirt price3\n",
      "Enter watch price4\n",
      "Enter cap price5\n",
      "You are not eligible for discount\n"
     ]
    },
    {
     "ename": "NameError",
     "evalue": "name 'discount' is not defined",
     "output_type": "error",
     "traceback": [
      "\u001b[1;31m---------------------------------------------------------------------------\u001b[0m",
      "\u001b[1;31mNameError\u001b[0m                                 Traceback (most recent call last)",
      "Cell \u001b[1;32mIn[14], line 26\u001b[0m\n\u001b[0;32m     19\u001b[0m \u001b[38;5;28;01melse\u001b[39;00m:\n\u001b[0;32m     20\u001b[0m     \u001b[38;5;28mprint\u001b[39m(\u001b[38;5;124m\"\u001b[39m\u001b[38;5;124mYou are not eligible for discount\u001b[39m\u001b[38;5;124m\"\u001b[39m)\n\u001b[0;32m     22\u001b[0m \u001b[38;5;28mprint\u001b[39m(\u001b[38;5;124mf\u001b[39m\u001b[38;5;124m\"\"\"\u001b[39m\n\u001b[0;32m     23\u001b[0m \u001b[38;5;124m            Thank you for shopping!!!\u001b[39m\n\u001b[0;32m     24\u001b[0m \u001b[38;5;124m            \u001b[39m\n\u001b[0;32m     25\u001b[0m \u001b[38;5;124m            Total: \u001b[39m\u001b[38;5;132;01m{\u001b[39;00mtotal\u001b[38;5;132;01m}\u001b[39;00m\n\u001b[1;32m---> 26\u001b[0m \u001b[38;5;124m            Discount: \u001b[39m\u001b[38;5;132;01m{\u001b[39;00mdiscount\u001b[38;5;132;01m}\u001b[39;00m\n\u001b[0;32m     27\u001b[0m \u001b[38;5;124m            Payable: \u001b[39m\u001b[38;5;132;01m{\u001b[39;00mtotal\u001b[38;5;241m-\u001b[39mdiscount\u001b[38;5;132;01m}\u001b[39;00m\n\u001b[0;32m     28\u001b[0m \n\u001b[0;32m     29\u001b[0m \u001b[38;5;124m \u001b[39m\u001b[38;5;124m\"\"\"\u001b[39m)\n",
      "\u001b[1;31mNameError\u001b[0m: name 'discount' is not defined"
     ]
    }
   ],
   "source": [
    "cost_shoes = float(input('Enter shoes price'))\n",
    "cost_glasses = float(input('Enter glasses price'))\n",
    "cost_shirt = float(input('Enter shirt price'))\n",
    "cost_watch = float(input('Enter watch price'))\n",
    "cost_cap = float(input('Enter cap price'))\n",
    "\n",
    "\n",
    "total  = cost_cap+cost_glasses+cost_shirt+cost_watch+cost_shoes\n",
    "# discount = 0\n",
    "\n",
    "if total>=15000:\n",
    "    discount=total*0.15\n",
    "elif total>=10000:\n",
    "    discount=total*0.10\n",
    "elif total>=5000:\n",
    "    discount=total*0.05\n",
    "elif total>=1000:\n",
    "    discount=total*.01\n",
    "else:\n",
    "    print(\"You are not eligible for discount\")\n",
    "    \n",
    "print(f\"\"\"\n",
    "            Thank you for shopping!!!\n",
    "            \n",
    "            Total: {total}\n",
    "            Discount: {discount}\n",
    "            Payable: {total-discount}\n",
    "\n",
    " \"\"\")"
   ]
  },
  {
   "cell_type": "code",
   "execution_count": 12,
   "id": "d1832f96",
   "metadata": {},
   "outputs": [],
   "source": [
    "del discount"
   ]
  },
  {
   "cell_type": "code",
   "execution_count": 13,
   "id": "a1bbc72a",
   "metadata": {},
   "outputs": [
    {
     "ename": "NameError",
     "evalue": "name 'discount' is not defined",
     "output_type": "error",
     "traceback": [
      "\u001b[1;31m---------------------------------------------------------------------------\u001b[0m",
      "\u001b[1;31mNameError\u001b[0m                                 Traceback (most recent call last)",
      "Cell \u001b[1;32mIn[13], line 1\u001b[0m\n\u001b[1;32m----> 1\u001b[0m discount\n",
      "\u001b[1;31mNameError\u001b[0m: name 'discount' is not defined"
     ]
    }
   ],
   "source": [
    "discount"
   ]
  },
  {
   "cell_type": "code",
   "execution_count": 5,
   "id": "7551fefa",
   "metadata": {},
   "outputs": [
    {
     "data": {
      "text/plain": [
       "12"
      ]
     },
     "execution_count": 5,
     "metadata": {},
     "output_type": "execute_result"
    }
   ],
   "source": [
    "int('12')"
   ]
  },
  {
   "cell_type": "code",
   "execution_count": 6,
   "id": "3272a5f8",
   "metadata": {},
   "outputs": [
    {
     "ename": "ValueError",
     "evalue": "invalid literal for int() with base 10: '12.5'",
     "output_type": "error",
     "traceback": [
      "\u001b[1;31m---------------------------------------------------------------------------\u001b[0m",
      "\u001b[1;31mValueError\u001b[0m                                Traceback (most recent call last)",
      "Cell \u001b[1;32mIn[6], line 1\u001b[0m\n\u001b[1;32m----> 1\u001b[0m \u001b[38;5;28mint\u001b[39m(\u001b[38;5;124m'\u001b[39m\u001b[38;5;124m12.5\u001b[39m\u001b[38;5;124m'\u001b[39m)\n",
      "\u001b[1;31mValueError\u001b[0m: invalid literal for int() with base 10: '12.5'"
     ]
    }
   ],
   "source": [
    "int('12.5')"
   ]
  },
  {
   "cell_type": "code",
   "execution_count": 7,
   "id": "7fbc7f1a",
   "metadata": {},
   "outputs": [
    {
     "data": {
      "text/plain": [
       "12.5"
      ]
     },
     "execution_count": 7,
     "metadata": {},
     "output_type": "execute_result"
    }
   ],
   "source": [
    "float('12.5')"
   ]
  },
  {
   "cell_type": "markdown",
   "id": "bda06450",
   "metadata": {},
   "source": [
    "# String : \n",
    "    - Every entity in Python is object.\n",
    "    - An object belongs to a class\n",
    "    - Class contains methods and properties"
   ]
  },
  {
   "cell_type": "code",
   "execution_count": 16,
   "id": "c22bdba2",
   "metadata": {},
   "outputs": [
    {
     "name": "stdout",
     "output_type": "stream",
     "text": [
      "<class 'str'>\n"
     ]
    }
   ],
   "source": [
    "name = \"Ahsun Khan\"\n",
    "print(type(name))\n",
    "\n",
    "# it is an object of string class"
   ]
  },
  {
   "cell_type": "code",
   "execution_count": 17,
   "id": "cdf59140",
   "metadata": {},
   "outputs": [
    {
     "data": {
      "text/plain": [
       "'Ahsun khan'"
      ]
     },
     "execution_count": 17,
     "metadata": {},
     "output_type": "execute_result"
    }
   ],
   "source": [
    "name.capitalize()"
   ]
  },
  {
   "cell_type": "code",
   "execution_count": 18,
   "id": "d52e2507",
   "metadata": {},
   "outputs": [
    {
     "data": {
      "text/plain": [
       "'AHSUN KHAN'"
      ]
     },
     "execution_count": 18,
     "metadata": {},
     "output_type": "execute_result"
    }
   ],
   "source": [
    "name.upper()"
   ]
  },
  {
   "cell_type": "code",
   "execution_count": 19,
   "id": "908ac7fa",
   "metadata": {},
   "outputs": [
    {
     "data": {
      "text/plain": [
       "'ahsun khan'"
      ]
     },
     "execution_count": 19,
     "metadata": {},
     "output_type": "execute_result"
    }
   ],
   "source": [
    "name.lower()"
   ]
  },
  {
   "cell_type": "code",
   "execution_count": 20,
   "id": "c7557f40",
   "metadata": {},
   "outputs": [],
   "source": [
    "name = 100"
   ]
  },
  {
   "cell_type": "markdown",
   "id": "b2a1ca72",
   "metadata": {},
   "source": [
    "### string contenation( join)"
   ]
  },
  {
   "cell_type": "code",
   "execution_count": 36,
   "id": "2563351f",
   "metadata": {},
   "outputs": [],
   "source": [
    "first_name = \"nasir\"\n",
    "last_name = 'hussain'\n",
    "\n",
    "age  = 20"
   ]
  },
  {
   "cell_type": "code",
   "execution_count": 31,
   "id": "b84c56e6",
   "metadata": {},
   "outputs": [
    {
     "data": {
      "text/plain": [
       "'nasir'"
      ]
     },
     "execution_count": 31,
     "metadata": {},
     "output_type": "execute_result"
    }
   ],
   "source": [
    "first_name"
   ]
  },
  {
   "cell_type": "code",
   "execution_count": 32,
   "id": "0e11add6",
   "metadata": {},
   "outputs": [
    {
     "data": {
      "text/plain": [
       "'hussain'"
      ]
     },
     "execution_count": 32,
     "metadata": {},
     "output_type": "execute_result"
    }
   ],
   "source": [
    "last_name"
   ]
  },
  {
   "cell_type": "code",
   "execution_count": 33,
   "id": "19449f1d",
   "metadata": {},
   "outputs": [
    {
     "data": {
      "text/plain": [
       "'nasirhussain'"
      ]
     },
     "execution_count": 33,
     "metadata": {},
     "output_type": "execute_result"
    }
   ],
   "source": [
    "first_name+last_name"
   ]
  },
  {
   "cell_type": "code",
   "execution_count": 38,
   "id": "13166ab4",
   "metadata": {},
   "outputs": [
    {
     "data": {
      "text/plain": [
       "'nasir hussain20'"
      ]
     },
     "execution_count": 38,
     "metadata": {},
     "output_type": "execute_result"
    }
   ],
   "source": [
    "first_name+\" \"+last_name + str(age)"
   ]
  },
  {
   "cell_type": "markdown",
   "id": "34113718",
   "metadata": {},
   "source": [
    "### My name is Nasir Hussain, And I am 50 years old."
   ]
  },
  {
   "cell_type": "code",
   "execution_count": 41,
   "id": "c4e517bc",
   "metadata": {},
   "outputs": [
    {
     "name": "stdout",
     "output_type": "stream",
     "text": [
      "My name is Nasir Hussain, And I am 20 years old.\n"
     ]
    }
   ],
   "source": [
    "print(\"My name is \"+first_name.capitalize()+\" \"+last_name.capitalize()+\", And I am \"+str(age)+\" years old.\")"
   ]
  },
  {
   "cell_type": "markdown",
   "id": "8675a9e7",
   "metadata": {},
   "source": [
    "# String Format"
   ]
  },
  {
   "cell_type": "code",
   "execution_count": 47,
   "id": "6c2d2abe",
   "metadata": {},
   "outputs": [
    {
     "name": "stdout",
     "output_type": "stream",
     "text": [
      "My name is Nasir Hussain, And I am 20 years old\n"
     ]
    }
   ],
   "source": [
    "print(\"My name is {} {}, And I am {} years old\".format(first_name.capitalize(), last_name.capitalize(), age))"
   ]
  },
  {
   "cell_type": "code",
   "execution_count": 46,
   "id": "c5b432d5",
   "metadata": {},
   "outputs": [
    {
     "data": {
      "text/plain": [
       "'My name is Nasir Hussain, And I am 20 years old'"
      ]
     },
     "execution_count": 46,
     "metadata": {},
     "output_type": "execute_result"
    }
   ],
   "source": [
    "\"My name is {} {}, And I am {} years old\".format(first_name.capitalize(), last_name.capitalize(), age)"
   ]
  },
  {
   "cell_type": "code",
   "execution_count": 50,
   "id": "3a485872",
   "metadata": {},
   "outputs": [
    {
     "name": "stdout",
     "output_type": "stream",
     "text": [
      "My name is {first_name.capitalize()} {last_name.capitalize()}, And I am {age} years old\n"
     ]
    }
   ],
   "source": [
    "print(\"My name is {first_name.capitalize()} {last_name.capitalize()}, And I am {age} years old\")"
   ]
  },
  {
   "cell_type": "code",
   "execution_count": 51,
   "id": "f4369aad",
   "metadata": {},
   "outputs": [
    {
     "name": "stdout",
     "output_type": "stream",
     "text": [
      "Please tell me your name:    Ahsun Ali\n",
      "Tell me your age    :    21\n",
      "Tell me your course   :    Python Programming \n",
      "Input tell me your campus: Head Office \n",
      "Tell mr your student id:   12345\n",
      "\n",
      "           Saylani Mass IT Training Programm\n",
      "           __________________________________\n",
      "           \n",
      "                    Student Identity Card\n",
      "                    =====================\n",
      "            Student Name:  Ahsun Ali \n",
      "            Course      :  Python Programming \n",
      "            Student_Id  :  12345\n",
      "            Campus      :  Head Office \n",
      "            Age         :  21\n",
      "            \n",
      "            \n",
      "            Note: Kisi ko mile to karebi letter box me dale den              \n",
      "                    \n",
      "\n",
      "\n",
      "\n",
      "\n",
      "\n",
      "\n"
     ]
    }
   ],
   "source": [
    "name= input(\"Please tell me your name:    \")\n",
    "age = int(input(\"Tell me your age    :    \"))\n",
    "course= input(\"Tell me your course   :    \")\n",
    "campus = input(\"Input tell me your campus: \")\n",
    "st_id  = input(\"Tell mr your student id:   \")\n",
    "\n",
    "\n",
    "print(f\"\"\"\n",
    "           Saylani Mass IT Training Programm\n",
    "           __________________________________\n",
    "           \n",
    "                    Student Identity Card\n",
    "                    =====================\n",
    "            Student Name:  {name} \n",
    "            Course      :  {course}\n",
    "            Student_Id  :  {st_id}\n",
    "            Campus      :  {campus}\n",
    "            Age         :  {age}\n",
    "            \n",
    "            \n",
    "            Note: Kisi ko mile to karebi letter box me dale den       \n",
    "                    \n",
    "\n",
    "\n",
    "\n",
    "\n",
    "\n",
    "\"\"\")"
   ]
  },
  {
   "cell_type": "code",
   "execution_count": 57,
   "id": "9e5ade80",
   "metadata": {},
   "outputs": [],
   "source": [
    "text = \"My name is Nasir Hussain, And I am 20 years old.\""
   ]
  },
  {
   "cell_type": "code",
   "execution_count": 58,
   "id": "bf1b249a",
   "metadata": {},
   "outputs": [
    {
     "data": {
      "text/plain": [
       "'My name is nasir hussain, and i am 20 years old.'"
      ]
     },
     "execution_count": 58,
     "metadata": {},
     "output_type": "execute_result"
    }
   ],
   "source": [
    "text.capitalize()"
   ]
  },
  {
   "cell_type": "code",
   "execution_count": 59,
   "id": "dd626e31",
   "metadata": {},
   "outputs": [
    {
     "data": {
      "text/plain": [
       "5"
      ]
     },
     "execution_count": 59,
     "metadata": {},
     "output_type": "execute_result"
    }
   ],
   "source": [
    "text.count(\"a\")"
   ]
  },
  {
   "cell_type": "code",
   "execution_count": 56,
   "id": "64768ace",
   "metadata": {},
   "outputs": [
    {
     "data": {
      "text/plain": [
       "2"
      ]
     },
     "execution_count": 56,
     "metadata": {},
     "output_type": "execute_result"
    }
   ],
   "source": [
    "text.count(\"am\")"
   ]
  },
  {
   "cell_type": "code",
   "execution_count": 61,
   "id": "a71155cd",
   "metadata": {},
   "outputs": [
    {
     "data": {
      "text/plain": [
       "True"
      ]
     },
     "execution_count": 61,
     "metadata": {},
     "output_type": "execute_result"
    }
   ],
   "source": [
    "text.endswith(\"d.\")"
   ]
  },
  {
   "cell_type": "code",
   "execution_count": 62,
   "id": "b6176006",
   "metadata": {},
   "outputs": [
    {
     "data": {
      "text/plain": [
       "False"
      ]
     },
     "execution_count": 62,
     "metadata": {},
     "output_type": "execute_result"
    }
   ],
   "source": [
    "text.startswith('m')"
   ]
  },
  {
   "cell_type": "code",
   "execution_count": 64,
   "id": "bb3a97b1",
   "metadata": {},
   "outputs": [
    {
     "name": "stdout",
     "output_type": "stream",
     "text": [
      "Head Office \n"
     ]
    }
   ],
   "source": [
    "print(campus)"
   ]
  },
  {
   "cell_type": "code",
   "execution_count": 65,
   "id": "f6a53010",
   "metadata": {},
   "outputs": [
    {
     "data": {
      "text/plain": [
       "False"
      ]
     },
     "execution_count": 65,
     "metadata": {},
     "output_type": "execute_result"
    }
   ],
   "source": [
    "campus==\"Head Office\""
   ]
  },
  {
   "cell_type": "code",
   "execution_count": 66,
   "id": "b9e09455",
   "metadata": {},
   "outputs": [
    {
     "data": {
      "text/plain": [
       "'Head Office '"
      ]
     },
     "execution_count": 66,
     "metadata": {},
     "output_type": "execute_result"
    }
   ],
   "source": [
    "campus.lstrip()"
   ]
  },
  {
   "cell_type": "code",
   "execution_count": 67,
   "id": "638596b8",
   "metadata": {},
   "outputs": [
    {
     "data": {
      "text/plain": [
       "'Head Office'"
      ]
     },
     "execution_count": 67,
     "metadata": {},
     "output_type": "execute_result"
    }
   ],
   "source": [
    "campus.rstrip()"
   ]
  },
  {
   "cell_type": "code",
   "execution_count": 71,
   "id": "8796ca1d",
   "metadata": {},
   "outputs": [
    {
     "data": {
      "text/plain": [
       "'Head Office'"
      ]
     },
     "execution_count": 71,
     "metadata": {},
     "output_type": "execute_result"
    }
   ],
   "source": [
    "campus.strip()"
   ]
  },
  {
   "cell_type": "markdown",
   "id": "9bf71d97",
   "metadata": {},
   "source": [
    "# String is Immutable: unchangeable"
   ]
  },
  {
   "cell_type": "code",
   "execution_count": 69,
   "id": "158fa1a9",
   "metadata": {},
   "outputs": [
    {
     "data": {
      "text/plain": [
       "'Head Office '"
      ]
     },
     "execution_count": 69,
     "metadata": {},
     "output_type": "execute_result"
    }
   ],
   "source": [
    "campus"
   ]
  },
  {
   "cell_type": "code",
   "execution_count": 76,
   "id": "fdc9d6d1",
   "metadata": {},
   "outputs": [
    {
     "data": {
      "text/plain": [
       "True"
      ]
     },
     "execution_count": 76,
     "metadata": {},
     "output_type": "execute_result"
    }
   ],
   "source": [
    "\"a\".isalnum()"
   ]
  },
  {
   "cell_type": "code",
   "execution_count": null,
   "id": "6557ab86",
   "metadata": {},
   "outputs": [],
   "source": []
  }
 ],
 "metadata": {
  "kernelspec": {
   "display_name": "Python 3 (ipykernel)",
   "language": "python",
   "name": "python3"
  },
  "language_info": {
   "codemirror_mode": {
    "name": "ipython",
    "version": 3
   },
   "file_extension": ".py",
   "mimetype": "text/x-python",
   "name": "python",
   "nbconvert_exporter": "python",
   "pygments_lexer": "ipython3",
   "version": "3.11.4"
  }
 },
 "nbformat": 4,
 "nbformat_minor": 5
}
