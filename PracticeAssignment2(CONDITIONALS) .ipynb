{
 "cells": [
  {
   "cell_type": "raw",
   "metadata": {
    "id": "8rksu2_jMVjQ",
    "vscode": {
     "languageId": "raw"
    }
   },
   "source": [
    "1) A company decided to give bonus of 5% to employee if his/her year of service is more than 5 years.\n",
    "Ask user for their salary and year of servic2000e and print the net bonus amount."
   ]
  },
  {
   "cell_type": "code",
   "execution_count": 6,
   "metadata": {
    "id": "_GRPHPiLMVjX"
   },
   "outputs": [],
   "source": [
    "salary = float (input(\"Enter your salary\"))\n",
    "years_of_service = float(input(\"Enter your service years\"))\n",
    "if years_of_service> 5:\n",
    "    bonus = salary * 0.05\n",
    "else:\n",
    "    print (\"you are not eligiable for bonus\")"
   ]
  },
  {
   "cell_type": "raw",
   "metadata": {
    "id": "iXt5RVcjMVja"
   },
   "source": [
    "2) Write a program to check whether a person is eligible for voting or not.  ask age of the person , if age is more than or equal to 18 then eligible if less than 18 no eligible"
   ]
  },
  {
   "cell_type": "code",
   "execution_count": 2,
   "metadata": {
    "id": "jXVCvia3MVjh"
   },
   "outputs": [
    {
     "name": "stdout",
     "output_type": "stream",
     "text": [
      "You are eligible for vote\n"
     ]
    }
   ],
   "source": [
    "age = int (input (\"Enter your age:\"))\n",
    "if age >=18:\n",
    "    print (\"You are eligible for vote\")\n",
    "else:\n",
    "    print (\"You are not eligible for vote\")\n"
   ]
  },
  {
   "cell_type": "raw",
   "metadata": {},
   "source": [
    "3) Take values of length and breadth of a rectangle from user and check if it is square or not."
   ]
  },
  {
   "cell_type": "code",
   "execution_count": 3,
   "metadata": {},
   "outputs": [
    {
     "name": "stdout",
     "output_type": "stream",
     "text": [
      "It is not a square\n"
     ]
    }
   ],
   "source": [
    "length = float(input(\"Enter the lenght of the rectangle :\"))\n",
    "breadth = float (input(\"Enter the breadth of the rectangle\"))\n",
    "\n",
    "if length == breadth:\n",
    "    print (\"It is a square\")\n",
    "else:\n",
    "    print (\"It is not a square\")\n"
   ]
  },
  {
   "cell_type": "raw",
   "metadata": {
    "id": "IkNM7QpCMVjj"
   },
   "source": [
    "4) Write a program to check whether a number entered by user is even or odd.\n",
    "\n",
    "Hint: Use modulo operator (%) to check remainder when divideing with 2 , if remainder is 0 even, else odd "
   ]
  },
  {
   "cell_type": "code",
   "execution_count": 7,
   "metadata": {
    "id": "-GxviwByMVjl"
   },
   "outputs": [
    {
     "name": "stdout",
     "output_type": "stream",
     "text": [
      "The number is even\n"
     ]
    }
   ],
   "source": [
    "num = int (input (\"Enter a number\"))\n",
    "if num % 2 ==0:\n",
    "    print (\"The number is even\")\n",
    "else:\n",
    "    print (\"The number is odd\")"
   ]
  },
  {
   "cell_type": "raw",
   "metadata": {
    "id": "_jEHjkfdMVjm"
   },
   "source": [
    "5) Write a program to check whether a number is divisible by 7 or not.\n",
    "\n",
    "Hint: Use modulo operator (%) to check remainder when divideing with 7 , if remainder is 0 divisible, else not divisible"
   ]
  },
  {
   "cell_type": "code",
   "execution_count": 7,
   "metadata": {
    "id": "IRNXyG1GMVjo"
   },
   "outputs": [
    {
     "name": "stdout",
     "output_type": "stream",
     "text": [
      "The number is divisible by 7\n"
     ]
    }
   ],
   "source": [
    "\n",
    "num = int (input (\"Enter a number\"))\n",
    "if num % 7 ==0:\n",
    "    print (\"The number is divisible by 7\")\n",
    "else:\n",
    "    print (\"The number is not divisible by 7\")"
   ]
  },
  {
   "cell_type": "raw",
   "metadata": {
    "id": "XxfyVe4kMVjp"
   },
   "source": [
    "6) Write a program to display \n",
    "\"Hello\" if a number entered by user is a multiple of five , otherwise print \"Bye\".\n",
    "Hint : modulo operator"
   ]
  },
  {
   "cell_type": "code",
   "execution_count": 9,
   "metadata": {
    "id": "Ixnz4R4TMVjr"
   },
   "outputs": [
    {
     "name": "stdout",
     "output_type": "stream",
     "text": [
      "Bye\n"
     ]
    }
   ],
   "source": [
    "num = int (input(\"Enter a number:\"))\n",
    "if num % 5== 0:\n",
    "    print (\"Hello\")\n",
    "else:\n",
    "    print (\"Bye\")"
   ]
  },
  {
   "cell_type": "raw",
   "metadata": {
    "id": "qfzRUUwOMVjs"
   },
   "source": [
    "7) Write a program to calculate the electricity bill (accept number of unit from user) \n",
    "according to the following criteria :\n",
    "     Unit                                                     Price  \n",
    "upto 100 units                                              no charge\n",
    "Next 200 units                                              Rs 5 per unit\n",
    "After 300 units                                             Rs 10 per unit\n",
    "(For example if input unit is 350 than total bill amount is Rs.1500\n",
    "(For example if input unit is 97 than total bill amount is Rs.0\n",
    "(For example if input unit is 150 than total bill amount is Rs.250"
   ]
  },
  {
   "cell_type": "code",
   "execution_count": 13,
   "metadata": {
    "id": "1BY1oAIpMVju"
   },
   "outputs": [
    {
     "name": "stdout",
     "output_type": "stream",
     "text": [
      "Total bill amount : Rs. 1500\n"
     ]
    }
   ],
   "source": [
    "units = int (input (\"Enter number of units:\"))\n",
    "\n",
    "if units<100:\n",
    "    bill = 0\n",
    "elif units <= 300:\n",
    "    bill = (units - 100) * 5\n",
    "else:\n",
    "    bill = 1000 + (units - 300) * 10\n",
    "\n",
    "print (\"Total bill amount : Rs.\",bill)\n"
   ]
  },
  {
   "cell_type": "raw",
   "metadata": {
    "id": "msAIDMRDMVjv",
    "vscode": {
     "languageId": "raw"
    }
   },
   "source": [
    "350\n",
    "7) Write a program to display the last digit of a number."
   ]
  },
  {
   "cell_type": "code",
   "execution_count": 14,
   "metadata": {
    "id": "VQwLuGzbMVjv"
   },
   "outputs": [
    {
     "name": "stdout",
     "output_type": "stream",
     "text": [
      "last digit: 7\n"
     ]
    }
   ],
   "source": [
    "num = int (input (\"Enter a number:\"))\n",
    "last_digit = num % 10\n",
    "print (\"last digit:\", last_digit)"
   ]
  },
  {
   "cell_type": "raw",
   "metadata": {
    "id": "UeLHzVZ_MVjw"
   },
   "source": [
    "8) Write a program to check whether the last digit of a number( entered by user ) is \n",
    "divisible by 3 or not."
   ]
  },
  {
   "cell_type": "code",
   "execution_count": 15,
   "metadata": {
    "id": "KiQ5wnc6MVjx"
   },
   "outputs": [
    {
     "name": "stdout",
     "output_type": "stream",
     "text": [
      "Last digit is divisible by 3\n"
     ]
    }
   ],
   "source": [
    "num = int (input (\"Enter a number:\"))\n",
    "last_digit = num %10\n",
    "if last_digit % 3 ==0:\n",
    "    print (\"Last digit is divisible by 3\")\n",
    "else:\n",
    "    print (\"Last digit is not divisible by 3\")"
   ]
  },
  {
   "cell_type": "raw",
   "metadata": {
    "id": "B2e5VYbiMVjz"
   },
   "source": [
    "9) Take two int values from user and print greatest among them."
   ]
  },
  {
   "cell_type": "code",
   "execution_count": 16,
   "metadata": {
    "id": "LyYYL78HMVj0"
   },
   "outputs": [
    {
     "name": "stdout",
     "output_type": "stream",
     "text": [
      "Greatest number : 2\n"
     ]
    }
   ],
   "source": [
    "num1 = int (input (\"Enter first number:\"))\n",
    "num2 = int (input (\"Enter second number\"))\n",
    "if num1 > num2:\n",
    "    print (\"Greatest number:\", num1)\n",
    "else:\n",
    "    print (\"Greatest number :\", num2)"
   ]
  },
  {
   "cell_type": "raw",
   "metadata": {
    "id": "R9gMEjdQMVj1"
   },
   "source": [
    "10) A shop will give discount of 10% if the cost of purchased quantity is more than 1000.\n",
    "Ask user for quantity\n",
    "Suppose, one unit will cost 100.\n",
    "Judge and print total cost for user."
   ]
  },
  {
   "cell_type": "code",
   "execution_count": 21,
   "metadata": {
    "id": "hjvEnOzxMVj2"
   },
   "outputs": [
    {
     "name": "stdout",
     "output_type": "stream",
     "text": [
      "Total cost: Rs. 45000.0\n"
     ]
    }
   ],
   "source": [
    "quantity = int (input (\"Enter a number:\"))\n",
    "unit_price = 100\n",
    "total_cost = quantity * unit_price\n",
    "if total_cost > 1000:\n",
    "    discount = total_cost * 0.10\n",
    "    total_cost -= discount\n",
    "\n",
    "print (\"Total cost: Rs.\" ,total_cost)\n"
   ]
  },
  {
   "cell_type": "raw",
   "metadata": {
    "id": "yqYL7FZeMVj3"
   },
   "source": [
    "11) A school has following rules for grading system:\n",
    "\n",
    "a. Below 25 - F\n",
    "\n",
    "b. 25 to 45 - E\n",
    "\n",
    "c. 45 to 50 - D\n",
    "\n",
    "d. 50 to 60 - C\n",
    "\n",
    "e. 60 to 80 - B\n",
    "\n",
    "f. Above 80 - A\n",
    "\n",
    "Ask user to enter marks and print the corresponding grade."
   ]
  },
  {
   "cell_type": "code",
   "execution_count": 22,
   "metadata": {
    "id": "he_r-bpOMVj4"
   },
   "outputs": [
    {
     "name": "stdout",
     "output_type": "stream",
     "text": [
      "Geade: B\n"
     ]
    }
   ],
   "source": [
    "marks = float (input (\"Enter marks:\"))\n",
    "\n",
    "if marks < 25 :\n",
    "    grade = \"F\"\n",
    "elif marks <= 45:\n",
    "    grade = \"E\"\n",
    "elif marks <= 50:\n",
    "    grade = \"D\"\n",
    "elif marks <= 60:\n",
    "    grade = \"C\"\n",
    "elif marks <= 80:\n",
    "    grade = \"B\"\n",
    "else:\n",
    "    grade = \"A\"\n",
    "\n",
    "print (\"Geade:\", grade)"
   ]
  },
  {
   "cell_type": "raw",
   "metadata": {
    "id": "IUJjt9NbMVj4"
   },
   "source": [
    "12) Take input of age of 3 people by user and determine oldest and youngest among them."
   ]
  },
  {
   "cell_type": "code",
   "execution_count": 23,
   "metadata": {
    "id": "vlre5Ck0MVj4"
   },
   "outputs": [
    {
     "name": "stdout",
     "output_type": "stream",
     "text": [
      "oldest is 66\n",
      "youngest is 22\n"
     ]
    }
   ],
   "source": [
    "#Type your code here\n",
    "\n",
    "age1 = int(input(\"Enter an age\"))\n",
    "age2 = int(input(\"Enter another age\"))\n",
    "age3 = int(input(\"Enter further age\"))\n",
    "oldest = None\n",
    "youngest = None\n",
    "\n",
    "if (age1 > age2) and (age1> age3):\n",
    "    oldest = age1\n",
    "    \n",
    "elif (age2>age1) and (age2>age3):\n",
    "    oldest = age2\n",
    "    \n",
    "else:\n",
    "    oldest = age3\n",
    "\n",
    "if (age1 < age2) and (age1< age3):\n",
    "    youngest = age1\n",
    "    \n",
    "elif (age2<age1) and (age2<age3):\n",
    "    youngest = age2\n",
    "    \n",
    "else:\n",
    "    youngest = age3\n",
    "\n",
    "print(f\"oldest is {oldest}\")\n",
    "print(f\"youngest is {youngest}\")"
   ]
  },
  {
   "cell_type": "raw",
   "metadata": {
    "id": "Zc9ovDhsMVj5"
   },
   "source": [
    "13)A student will not be allowed to sit in exam if his/her attendence is less than 75%.\n",
    "\n",
    "Take following input from user\n",
    "\n",
    "Number of classes held\n",
    "\n",
    "Number of classes attended.\n",
    "\n",
    "And print\n",
    "\n",
    "percentage of class attended\n",
    "\n",
    "Is student is allowed to sit in exam or not.\n"
   ]
  },
  {
   "cell_type": "code",
   "execution_count": 24,
   "metadata": {
    "id": "rseYum2_MVj6"
   },
   "outputs": [
    {
     "name": "stdout",
     "output_type": "stream",
     "text": [
      "Attendance Percentage: 100.00%\n",
      "The student is allowed to sit in the exam.\n"
     ]
    }
   ],
   "source": [
    "\n",
    "classes_held = int(input(\"Enter the total number of classes held: \"))\n",
    "classes_attended = int(input(\"Enter the number of classes attended: \"))\n",
    "\n",
    "\n",
    "attendance_percentage = (classes_attended / classes_held) * 100\n",
    "\n",
    "if attendance_percentage >= 75:\n",
    "    print(\"Attendance Percentage:\", attendance_percentage)\n",
    "    print(\"The student is allowed to sit in the exam.\")\n",
    "else:\n",
    "    print(\"Attendance Percentage:\",attendance_percentage)\n",
    "    print(\"The student is not allowed to sit in the exam due to low attendance.\")\n"
   ]
  },
  {
   "cell_type": "raw",
   "metadata": {
    "id": "58UPPHAOMVj6"
   },
   "source": [
    "14) Modify the above question to allow student to sit if he/she has medical cause. Ask user if he/she has medical cause or not ( 'Y' or 'N' ) and print accordingly."
   ]
  },
  {
   "cell_type": "code",
   "execution_count": 25,
   "metadata": {
    "id": "lDi-xLzTMVj7"
   },
   "outputs": [
    {
     "name": "stdout",
     "output_type": "stream",
     "text": [
      "Attendance Percentage: 50.0\n",
      "The student is allowed to sit in the exam.\n"
     ]
    }
   ],
   "source": [
    "\n",
    "classes_held = int(input(\"Enter the total number of classes held: \"))\n",
    "classes_attended = int(input(\"Enter the number of classes attended: \"))\n",
    "medical_cause = input(\"Do you have a medical cause? (Enter 'Y' or 'N'): \")\n",
    "\n",
    "\n",
    "attendance_percentage = (classes_attended / classes_held) * 100\n",
    "\n",
    "\n",
    "if attendance_percentage >= 75 or medical_cause.upper() == 'Y':\n",
    "    print(\"Attendance Percentage:\",attendance_percentage)\n",
    "    print(\"The student is allowed to sit in the exam.\")\n",
    "else:\n",
    "    print(\"Attendance Percentage: \",attendance_percentage)\n",
    "    print(\"The student is not allowed to sit in the exam due to low attendance and no medical cause.\")\n"
   ]
  },
  {
   "cell_type": "markdown",
   "metadata": {},
   "source": []
  },
  {
   "cell_type": "raw",
   "metadata": {
    "id": "kJtSy1EoMVj7"
   },
   "source": [
    "15) Write a program to check if a year is leap year or not.\n",
    "\n",
    "If a year is divisible by 4 then it is leap year but if the year is century year like 2000, 1900, 2100 then it must be divisible by 400."
   ]
  },
  {
   "cell_type": "code",
   "execution_count": 28,
   "metadata": {
    "id": "QUL_YUX3MVj7"
   },
   "outputs": [
    {
     "name": "stdout",
     "output_type": "stream",
     "text": [
      "2000 is a leap year\n"
     ]
    }
   ],
   "source": [
    "year = int (input (\"Enter a year:\"))\n",
    "if year % 4 == 0:\n",
    "   if year % 100 == 0:\n",
    "      if year % 400 == 0:\n",
    "        print (year, \"is a leap year\")\n",
    "      else:\n",
    "          print (year , \"is a not a leap year\")"
   ]
  },
  {
   "cell_type": "raw",
   "metadata": {
    "id": "CCNg4yDDMVj8"
   },
   "source": [
    "16) Ask user to enter age, gender ( M or F ), marital status ( Y or N ) and then using following rules print their place of service.\n",
    "\n",
    "if employee is female, then she will work only in urban areas.\n",
    "\n",
    "if employee is a male and age is in between 20 to 40 then he may work in anywhere\n",
    "\n",
    "if employee is male and age is in between 40 t0 60 then he will work in urban areas only.\n",
    "\n",
    "And any other input of age should print \"ERROR\""
   ]
  },
  {
   "cell_type": "code",
   "execution_count": 35,
   "metadata": {
    "id": "RDWMB0CZMVj8"
   },
   "outputs": [
    {
     "name": "stdout",
     "output_type": "stream",
     "text": [
      "Place of service : Anywhere\n"
     ]
    }
   ],
   "source": [
    "age = int(input(\"Enter your age: \"))\n",
    "gender = input(\"Enter your gender (M or F): \")\n",
    "marital_status = input(\"Are you married? (Y or N): \")\n",
    "\n",
    "if gender.upper() == \"F\":\n",
    "    place_of_service = \"Urban\"\n",
    "elif gender.upper() == \"M\":\n",
    "   if age >= 20 and age <=40:\n",
    "        place_of_service = \"Anywhere\"\n",
    "   elif age >= 40 and age <=60:\n",
    "        place_of_service = \"Urban\"\n",
    "   else:\n",
    "        place_of_service = \"ERROR\"\n",
    "else: \n",
    "    place_of_service = \"ERROR\"\n",
    "\n",
    "print (\"Place of service :\", place_of_service)\n"
   ]
  },
  {
   "cell_type": "code",
   "execution_count": null,
   "metadata": {},
   "outputs": [],
   "source": []
  }
 ],
 "metadata": {
  "colab": {
   "name": "If then Else &Elif Practice Task .ipynb",
   "provenance": []
  },
  "kernelspec": {
   "display_name": "Python 3 (ipykernel)",
   "language": "python",
   "name": "python3"
  },
  "language_info": {
   "codemirror_mode": {
    "name": "ipython",
    "version": 3
   },
   "file_extension": ".py",
   "mimetype": "text/x-python",
   "name": "python",
   "nbconvert_exporter": "python",
   "pygments_lexer": "ipython3",
   "version": "3.11.7"
  }
 },
 "nbformat": 4,
 "nbformat_minor": 4
}
