{
 "cells": [
  {
   "cell_type": "code",
   "execution_count": null,
   "id": "42788fae-9bfa-42f6-acac-564a39a96465",
   "metadata": {},
   "outputs": [],
   "source": [
    "pip install numpy"
   ]
  },
  {
   "cell_type": "code",
   "execution_count": null,
   "id": "c2ff031f-7c0f-42e5-ba0b-e92f70229a22",
   "metadata": {},
   "outputs": [],
   "source": [
    "#import this library in jnotebook"
   ]
  },
  {
   "cell_type": "code",
   "execution_count": null,
   "id": "dc4d5bed-c2ea-4f97-b697-494c1c686212",
   "metadata": {},
   "outputs": [],
   "source": [
    "import numpy as np"
   ]
  },
  {
   "cell_type": "code",
   "execution_count": null,
   "id": "47b52a58-cd86-4774-b8d1-c1213688a00f",
   "metadata": {},
   "outputs": [],
   "source": [
    "np.array ([ \"Golgappy\" , \" Pholki\" , \"Chhat\" , \"Shoorma\"])\n",
    "np\n"
   ]
  },
  {
   "cell_type": "code",
   "execution_count": null,
   "id": "8839e032-44a3-4d29-8856-6159a1f1b8c2",
   "metadata": {},
   "outputs": [],
   "source": []
  },
  {
   "cell_type": "code",
   "execution_count": null,
   "id": "f73381a9-cdcc-434c-aee2-6a1760ec133a",
   "metadata": {},
   "outputs": [],
   "source": []
  }
 ],
 "metadata": {
  "kernelspec": {
   "display_name": "Python 3 (ipykernel)",
   "language": "python",
   "name": "python3"
  },
  "language_info": {
   "codemirror_mode": {
    "name": "ipython",
    "version": 3
   },
   "file_extension": ".py",
   "mimetype": "text/x-python",
   "name": "python",
   "nbconvert_exporter": "python",
   "pygments_lexer": "ipython3",
   "version": "3.9.7"
  }
 },
 "nbformat": 4,
 "nbformat_minor": 5
}
