{
 "cells": [
  {
   "cell_type": "code",
   "execution_count": null,
   "id": "627de72a-8cef-4f4c-9345-d44e0932d601",
   "metadata": {},
   "outputs": [
    {
     "name": "stdout",
     "output_type": "stream",
     "text": [
      "Collecting numpy\n",
      "  Using cached numpy-1.26.1.tar.gz (15.7 MB)\n",
      "  Installing build dependencies ... \u001b[?25ldone\n",
      "\u001b[?25h  Getting requirements to build wheel ... \u001b[?25ldone\n",
      "\u001b[?25h  Installing backend dependencies ... \u001b[?25l/"
     ]
    }
   ],
   "source": [
    "pip install numpy"
   ]
  },
  {
   "cell_type": "code",
   "execution_count": null,
   "id": "c4d3e80c-7a30-4259-a39f-898a5b5eee13",
   "metadata": {},
   "outputs": [],
   "source": [
    "# import this library in jnotebook\n",
    "import numpy as np"
   ]
  },
  {
   "cell_type": "code",
   "execution_count": null,
   "id": "e5534bda-4f6f-4ac5-b739-27f29c345714",
   "metadata": {},
   "outputs": [],
   "source": [
    "np.array ([ \"Golgappy\" , \" Pholki\" , \"Chhat\" , \"Shoorma\"])\n",
    "np"
   ]
  },
  {
   "cell_type": "code",
   "execution_count": null,
   "id": "f98a94fa-011f-407e-84ef-2c9b772d8f7c",
   "metadata": {},
   "outputs": [],
   "source": []
  },
  {
   "cell_type": "code",
   "execution_count": null,
   "id": "46f2c1da-88fc-4834-9802-36e7dc220745",
   "metadata": {},
   "outputs": [],
   "source": [
    "np.array ([ \"Golgappy\" , \" Pholki\" , \"Chhat\" , \"Shoorma\"])\n",
    "np"
   ]
  },
  {
   "cell_type": "code",
   "execution_count": null,
   "id": "e9aed106-2059-420d-87ad-641be8c1f957",
   "metadata": {},
   "outputs": [],
   "source": [
    "food = np.array ([ \"Golgappy\" , \" Pholki\" , \"Chhat\" , \"Shoorma\"])\n",
    "np\n",
    "food"
   ]
  },
  {
   "cell_type": "code",
   "execution_count": null,
   "id": "4832e75c-5289-41fd-830d-984847d5a212",
   "metadata": {},
   "outputs": [],
   "source": []
  }
 ],
 "metadata": {
  "kernelspec": {
   "display_name": "Python 3 (ipykernel)",
   "language": "python",
   "name": "python3"
  },
  "language_info": {
   "codemirror_mode": {
    "name": "ipython",
    "version": 3
   },
   "file_extension": ".py",
   "mimetype": "text/x-python",
   "name": "python",
   "nbconvert_exporter": "python",
   "pygments_lexer": "ipython3",
   "version": "3.9.7"
  }
 },
 "nbformat": 4,
 "nbformat_minor": 5
}
