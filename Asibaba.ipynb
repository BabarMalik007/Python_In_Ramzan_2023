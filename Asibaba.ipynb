{
 "cells": [
  {
   "cell_type": "code",
   "execution_count": 10,
   "id": "ae9cb4ff-5290-4cf2-99d8-14ecc609fd2e",
   "metadata": {},
   "outputs": [
    {
     "data": {
      "text/plain": [
       "(1, 'python', True, 3)"
      ]
     },
     "execution_count": 10,
     "metadata": {},
     "output_type": "execute_result"
    }
   ],
   "source": [
    "tup1= ( 1 , \"python\" , True ,3)\n",
    "tup1"
   ]
  },
  {
   "cell_type": "code",
   "execution_count": 11,
   "id": "69811b17-ee17-4c0a-93e9-bdd6a9837d9a",
   "metadata": {},
   "outputs": [
    {
     "data": {
      "text/plain": [
       "tuple"
      ]
     },
     "execution_count": 11,
     "metadata": {},
     "output_type": "execute_result"
    }
   ],
   "source": [
    "#type of tuple\n",
    "type(tup1)"
   ]
  },
  {
   "cell_type": "code",
   "execution_count": 13,
   "id": "dbff184d-b01d-4cea-8fc3-73b5b376d4ef",
   "metadata": {},
   "outputs": [
    {
     "data": {
      "text/plain": [
       "'python'"
      ]
     },
     "execution_count": 13,
     "metadata": {},
     "output_type": "execute_result"
    }
   ],
   "source": [
    "tup1[1]"
   ]
  },
  {
   "cell_type": "code",
   "execution_count": 14,
   "id": "59fe5200-8997-4f77-a21a-b3c974ace10f",
   "metadata": {},
   "outputs": [
    {
     "data": {
      "text/plain": [
       "True"
      ]
     },
     "execution_count": 14,
     "metadata": {},
     "output_type": "execute_result"
    }
   ],
   "source": [
    "tup1[2]"
   ]
  },
  {
   "cell_type": "code",
   "execution_count": 16,
   "id": "21cdf6ac-9801-4f90-a12d-90d0b0a06699",
   "metadata": {},
   "outputs": [
    {
     "data": {
      "text/plain": [
       "(1, 'python', True, 3)"
      ]
     },
     "execution_count": 16,
     "metadata": {},
     "output_type": "execute_result"
    }
   ],
   "source": [
    "tup1[0:4]"
   ]
  },
  {
   "cell_type": "code",
   "execution_count": 17,
   "id": "3b77ba99-4ee5-46c2-af72-5e8673e366d2",
   "metadata": {},
   "outputs": [
    {
     "data": {
      "text/plain": [
       "4"
      ]
     },
     "execution_count": 17,
     "metadata": {},
     "output_type": "execute_result"
    }
   ],
   "source": [
    "len(tup1)"
   ]
  },
  {
   "cell_type": "code",
   "execution_count": 20,
   "id": "f55b1898-82e6-49b6-aacf-26fbd143feb7",
   "metadata": {},
   "outputs": [
    {
     "data": {
      "text/plain": [
       "(2, 'DrAamar', True, 4.5)"
      ]
     },
     "execution_count": 20,
     "metadata": {},
     "output_type": "execute_result"
    }
   ],
   "source": [
    "tup2 = ( 2 , \"DrAamar\" , True , 4.5)\n",
    "tup2"
   ]
  },
  {
   "cell_type": "code",
   "execution_count": 21,
   "id": "f8f8f524-f75e-49f1-9c7f-6f706d1e80ca",
   "metadata": {},
   "outputs": [
    {
     "data": {
      "text/plain": [
       "(1, 'python', True, 3, 2, 'DrAamar', True, 4.5)"
      ]
     },
     "execution_count": 21,
     "metadata": {},
     "output_type": "execute_result"
    }
   ],
   "source": [
    "tup1+tup2"
   ]
  },
  {
   "cell_type": "code",
   "execution_count": 22,
   "id": "203a9fc1-c461-4816-9118-ce0a66d23f6b",
   "metadata": {},
   "outputs": [
    {
     "data": {
      "text/plain": [
       "(1, 'python', True, 3, 1, 'python', True, 3, 2, 'DrAamar', True, 4.5)"
      ]
     },
     "execution_count": 22,
     "metadata": {},
     "output_type": "execute_result"
    }
   ],
   "source": [
    "tup1*2+tup2"
   ]
  },
  {
   "cell_type": "code",
   "execution_count": 27,
   "id": "085056b9-c99b-40dc-adef-050772d23106",
   "metadata": {},
   "outputs": [
    {
     "ename": "SyntaxError",
     "evalue": "leading zeros in decimal integer literals are not permitted; use an 0o prefix for octal integers (1642383374.py, line 1)",
     "output_type": "error",
     "traceback": [
      "\u001b[0;36m  Cell \u001b[0;32mIn[27], line 1\u001b[0;36m\u001b[0m\n\u001b[0;31m    tup3 = ( 22 ,66 ,299 , 007 , 786)\u001b[0m\n\u001b[0m                             ^\u001b[0m\n\u001b[0;31mSyntaxError\u001b[0m\u001b[0;31m:\u001b[0m leading zeros in decimal integer literals are not permitted; use an 0o prefix for octal integers\n"
     ]
    }
   ],
   "source": [
    "tup3 = ( 22 ,66 ,299 , 007 , 786)\n",
    "tup3"
   ]
  },
  {
   "cell_type": "code",
   "execution_count": 26,
   "id": "36e8e006-f792-4c79-b349-745526089bc5",
   "metadata": {},
   "outputs": [
    {
     "data": {
      "text/plain": [
       "(22, 66, 299, 700, 786)"
      ]
     },
     "execution_count": 26,
     "metadata": {},
     "output_type": "execute_result"
    }
   ],
   "source": [
    "tup3= ( 22 ,66 ,299 , 700 , 786)\n",
    "tup3"
   ]
  },
  {
   "cell_type": "code",
   "execution_count": 28,
   "id": "436d5846-d6e1-4db6-b173-313ebad37ede",
   "metadata": {},
   "outputs": [
    {
     "data": {
      "text/plain": [
       "22"
      ]
     },
     "execution_count": 28,
     "metadata": {},
     "output_type": "execute_result"
    }
   ],
   "source": [
    "### minimum ###\n",
    "min(tup3)"
   ]
  },
  {
   "cell_type": "code",
   "execution_count": 29,
   "id": "be05a601-af49-49b5-b995-dff991d2cea8",
   "metadata": {},
   "outputs": [
    {
     "data": {
      "text/plain": [
       "786"
      ]
     },
     "execution_count": 29,
     "metadata": {},
     "output_type": "execute_result"
    }
   ],
   "source": [
    "### Maximum ####\n",
    "max(tup3)"
   ]
  },
  {
   "cell_type": "code",
   "execution_count": 30,
   "id": "8d305813-ea04-405c-b75c-887a02318a6e",
   "metadata": {},
   "outputs": [
    {
     "data": {
      "text/plain": [
       "[3, 'BabaAamar', True]"
      ]
     },
     "execution_count": 30,
     "metadata": {},
     "output_type": "execute_result"
    }
   ],
   "source": [
    "### List###\n",
    "list1 = [ 3 , \"BabaAamar\", True]\n",
    "list1"
   ]
  },
  {
   "cell_type": "code",
   "execution_count": 31,
   "id": "acd7a844-a137-4a9c-b2b7-7c648f94d1aa",
   "metadata": {},
   "outputs": [
    {
     "data": {
      "text/plain": [
       "list"
      ]
     },
     "execution_count": 31,
     "metadata": {},
     "output_type": "execute_result"
    }
   ],
   "source": [
    "type(list1)"
   ]
  },
  {
   "cell_type": "code",
   "execution_count": 32,
   "id": "42442646-4731-4ba3-a3d9-e23a1ddc8ab6",
   "metadata": {},
   "outputs": [
    {
     "data": {
      "text/plain": [
       "3"
      ]
     },
     "execution_count": 32,
     "metadata": {},
     "output_type": "execute_result"
    }
   ],
   "source": [
    "len(list1)"
   ]
  },
  {
   "cell_type": "code",
   "execution_count": 33,
   "id": "6698a049-ee6f-41bc-889c-ec38b99d864b",
   "metadata": {},
   "outputs": [
    {
     "data": {
      "text/plain": [
       "'BabaAamar'"
      ]
     },
     "execution_count": 33,
     "metadata": {},
     "output_type": "execute_result"
    }
   ],
   "source": [
    "list1 [1]"
   ]
  },
  {
   "cell_type": "code",
   "execution_count": 34,
   "id": "3b0c4b18-7f63-4b25-a7a1-1cf631e9dccf",
   "metadata": {},
   "outputs": [
    {
     "data": {
      "text/plain": [
       "[5, 7, 12, 86, 'Malik', 3.0, True]"
      ]
     },
     "execution_count": 34,
     "metadata": {},
     "output_type": "execute_result"
    }
   ],
   "source": [
    "list2= [5 ,7 , 12, 86, \"Malik\", 3.0, True]\n",
    "list2"
   ]
  },
  {
   "cell_type": "code",
   "execution_count": 35,
   "id": "d4d9007f-2bdd-48f9-a4e9-930fcbd0aa59",
   "metadata": {},
   "outputs": [
    {
     "data": {
      "text/plain": [
       "[3, 'BabaAamar', True, 5, 7, 12, 86, 'Malik', 3.0, True]"
      ]
     },
     "execution_count": 35,
     "metadata": {},
     "output_type": "execute_result"
    }
   ],
   "source": [
    "list1+list2"
   ]
  },
  {
   "cell_type": "code",
   "execution_count": 36,
   "id": "229db4ed-e83b-4868-9ea8-c68f1e6b5f09",
   "metadata": {},
   "outputs": [
    {
     "data": {
      "text/plain": [
       "[3, 'BabaAamar', True, 3, 'BabaAamar', True, 5, 7, 12, 86, 'Malik', 3.0, True]"
      ]
     },
     "execution_count": 36,
     "metadata": {},
     "output_type": "execute_result"
    }
   ],
   "source": [
    "list1*2+list2"
   ]
  },
  {
   "cell_type": "code",
   "execution_count": 38,
   "id": "9e938c88-4fca-4587-b434-15ae39a91c57",
   "metadata": {},
   "outputs": [
    {
     "data": {
      "text/plain": [
       "[3,\n",
       " 'BabaAamar',\n",
       " True,\n",
       " 'python ka chilla with Dr baba Aamar Tufail',\n",
       " 'python ka chilla with Dr baba Aamar Tufail']"
      ]
     },
     "execution_count": 38,
     "metadata": {},
     "output_type": "execute_result"
    }
   ],
   "source": [
    "list1.append(\"python ka chilla with Dr baba Aamar Tufail\")\n",
    "list1"
   ]
  },
  {
   "cell_type": "code",
   "execution_count": 39,
   "id": "6edc935b-2816-4b35-b6a2-6824bdbd609b",
   "metadata": {},
   "outputs": [
    {
     "data": {
      "text/plain": [
       "[12, 7, 1, 78, 56, 30, 22, 12, 98, 0]"
      ]
     },
     "execution_count": 39,
     "metadata": {},
     "output_type": "execute_result"
    }
   ],
   "source": [
    "list3=[12 ,7 , 1 , 78 , 56 , 30 , 22, 12, 98, 0]\n",
    "list3"
   ]
  },
  {
   "cell_type": "code",
   "execution_count": 46,
   "id": "1142ca41-c3f8-4f8b-a898-dc101dd8136a",
   "metadata": {},
   "outputs": [
    {
     "data": {
      "text/plain": [
       "<method 'sort' of 'list' objects>"
      ]
     },
     "execution_count": 46,
     "metadata": {},
     "output_type": "execute_result"
    }
   ],
   "source": [
    "list.sort"
   ]
  },
  {
   "cell_type": "code",
   "execution_count": 47,
   "id": "92c0f5c8-38b3-48a6-b369-8ad60cd74f7a",
   "metadata": {},
   "outputs": [],
   "source": [
    "list1.reverse()"
   ]
  },
  {
   "cell_type": "code",
   "execution_count": 51,
   "id": "3bbd7d91-dc8b-4123-9c10-ee1e19f9787d",
   "metadata": {},
   "outputs": [
    {
     "data": {
      "text/plain": [
       "['python ka chilla with Dr baba Aamar Tufail',\n",
       " 'python ka chilla with Dr baba Aamar Tufail',\n",
       " True,\n",
       " 'BabaAamar',\n",
       " 3,\n",
       " 5,\n",
       " 7,\n",
       " 12,\n",
       " 86,\n",
       " 'Malik',\n",
       " 3.0,\n",
       " True,\n",
       " 12,\n",
       " 7,\n",
       " 1,\n",
       " 78,\n",
       " 56,\n",
       " 30,\n",
       " 22,\n",
       " 12,\n",
       " 98,\n",
       " 0]"
      ]
     },
     "execution_count": 51,
     "metadata": {},
     "output_type": "execute_result"
    }
   ],
   "source": [
    "lists = list1+ list2 +list3\n",
    "lists"
   ]
  },
  {
   "cell_type": "code",
   "execution_count": null,
   "id": "0c5cb7f4-52c8-49ea-a3ee-e0ac42400533",
   "metadata": {},
   "outputs": [],
   "source": [
    "### Dictionary ###"
   ]
  }
 ],
 "metadata": {
  "kernelspec": {
   "display_name": "Python 3 (ipykernel)",
   "language": "python",
   "name": "python3"
  },
  "language_info": {
   "codemirror_mode": {
    "name": "ipython",
    "version": 3
   },
   "file_extension": ".py",
   "mimetype": "text/x-python",
   "name": "python",
   "nbconvert_exporter": "python",
   "pygments_lexer": "ipython3",
   "version": "3.9.7"
  }
 },
 "nbformat": 4,
 "nbformat_minor": 5
}
