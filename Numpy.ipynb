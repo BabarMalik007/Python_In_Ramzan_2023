{
 "cells": [
  {
   "cell_type": "code",
   "execution_count": null,
   "id": "12132751-b266-42ef-84f6-f8606e1881b7",
   "metadata": {},
   "outputs": [],
   "source": [
    "pip install numpy"
   ]
  },
  {
   "cell_type": "code",
   "execution_count": null,
   "id": "9474d045-23e6-4b59-a146-91da9cf2dc0d",
   "metadata": {},
   "outputs": [],
   "source": [
    "# import this library in jnotebook"
   ]
  }
 ],
 "metadata": {
  "kernelspec": {
   "display_name": "Python 3 (ipykernel)",
   "language": "python",
   "name": "python3"
  },
  "language_info": {
   "codemirror_mode": {
    "name": "ipython",
    "version": 3
   },
   "file_extension": ".py",
   "mimetype": "text/x-python",
   "name": "python",
   "nbconvert_exporter": "python",
   "pygments_lexer": "ipython3",
   "version": "3.9.7"
  }
 },
 "nbformat": 4,
 "nbformat_minor": 5
}
