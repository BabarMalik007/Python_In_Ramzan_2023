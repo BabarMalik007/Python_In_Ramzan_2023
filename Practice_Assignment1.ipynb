{
 "cells": [
  {
   "cell_type": "markdown",
   "metadata": {},
   "source": [
    "# Topic: print()"
   ]
  },
  {
   "cell_type": "markdown",
   "metadata": {},
   "source": [
    "1) Using the python print function print any string value, integer value, boolean value, float value in single print command"
   ]
  },
  {
   "cell_type": "code",
   "execution_count": 2,
   "metadata": {},
   "outputs": [
    {
     "name": "stdout",
     "output_type": "stream",
     "text": [
      "hello 42 True 3.14\n"
     ]
    }
   ],
   "source": [
    "print (\"hello\", 42, True, 3.14)\n"
   ]
  },
  {
   "cell_type": "markdown",
   "metadata": {},
   "source": [
    "2) Using the python print function print hyphon(-) separated any string value, integer value, boolean value, float value in single print command"
   ]
  },
  {
   "cell_type": "code",
   "execution_count": 41,
   "metadata": {},
   "outputs": [
    {
     "name": "stdout",
     "output_type": "stream",
     "text": [
      "hello-42-True-3.14\n",
      "Hello-42-True-3.14\n",
      "Hello- 42-True-3.14\n"
     ]
    }
   ],
   "source": [
    "print (str(\"hello\")+\"-\"+str(42)+\"-\"+str(True)+\"-\"+str(3.14))\n",
    "#or\n",
    "print (\"{}-{}-{}-{}\".format(\"Hello\", 42,True,3.14))\n",
    "#or\n",
    "print (f\"Hello- {42}-{True}-{3.14}\")\n"
   ]
  },
  {
   "cell_type": "markdown",
   "metadata": {},
   "source": [
    "3) Using the python print function print any string value, integer value, boolean value, float value in separate print command.\n",
    "But every value must be space separated and in single line "
   ]
  },
  {
   "cell_type": "code",
   "execution_count": 3,
   "metadata": {},
   "outputs": [
    {
     "name": "stdout",
     "output_type": "stream",
     "text": [
      "Hello 42 True 3.14\n"
     ]
    }
   ],
   "source": [
    "print (\"Hello\", end=' ')\n",
    "print (42, end =' ')\n",
    "print (True, end=' ')\n",
    "print (3.14)"
   ]
  },
  {
   "cell_type": "markdown",
   "metadata": {},
   "source": [
    "4) Can a python print function take no value to print???"
   ]
  },
  {
   "cell_type": "code",
   "execution_count": 43,
   "metadata": {},
   "outputs": [
    {
     "name": "stdout",
     "output_type": "stream",
     "text": [
      "\n"
     ]
    }
   ],
   "source": [
    "print ()# type your answer here\n"
   ]
  },
  {
   "cell_type": "markdown",
   "metadata": {},
   "source": [
    "# TOPIC :Variables "
   ]
  },
  {
   "cell_type": "markdown",
   "metadata": {},
   "source": [
    "5) One of my friends name is Mr. Ahmed. He is 30 years old.  He is a lawer by profession. He has done his bachelors in law in the year 2005. He is working with a reputable law firm 'The Himalya Associates' in Karachi since 2015.\n",
    "He is a handsome lawer with height of 5.10 feets and weight 70600g. His monthly income is Rs. 200k PKR.\n",
    "\n",
    "Note: Create variables from above text and also assign values from the text.  "
   ]
  },
  {
   "cell_type": "code",
   "execution_count": 44,
   "metadata": {},
   "outputs": [
    {
     "name": "stdout",
     "output_type": "stream",
     "text": [
      "Name: Mr Ahmad\n",
      "Age: 30\n",
      "Profession: laywer\n",
      "Qualificatioon: bechlor in law\n",
      "Graduation_Year: 2005\n",
      "Company: The Himalaya Associates\n",
      "City: karachi\n",
      "Joining_Year: 2015\n",
      "Height: 5.1\n",
      "Weight: 70600\n",
      "Monthly_Income: 200000\n"
     ]
    }
   ],
   "source": [
    "name = \"Mr Ahmad\"\n",
    "age = 30\n",
    "profession = \"laywer\"\n",
    "qualification = \"bechlor in law\"\n",
    "graduation_year = 2005\n",
    "company = \"The Himalaya Associates\"\n",
    "city = \"karachi\"\n",
    "joining_year = 2015\n",
    "height = 5.10 # in feet\n",
    "weight = 70600 # in grams\n",
    "monthly_income = 200000 #in PKR\n",
    "\n",
    "print (\"Name:\",name)\n",
    "print (\"Age:\",age)\n",
    "print (\"Profession:\",profession)\n",
    "print (\"Qualificatioon:\",qualification)\n",
    "print (\"Graduation_Year:\",graduation_year)\n",
    "print (\"Company:\",company)\n",
    "print (\"City:\",city)\n",
    "print (\"Joining_Year:\",joining_year)\n",
    "print (\"Height:\",height)\n",
    "print (\"Weight:\",weight)\n",
    "print (\"Monthly_Income:\",monthly_income)  "
   ]
  },
  {
   "cell_type": "markdown",
   "metadata": {},
   "source": [
    "6)How many years has been to Mr. Ahmed after his bachelors degree? Create a variable that hold current year value and then subtract it from his passout year"
   ]
  },
  {
   "cell_type": "code",
   "execution_count": 45,
   "metadata": {},
   "outputs": [
    {
     "name": "stdout",
     "output_type": "stream",
     "text": [
      "Years after graduation: 19\n"
     ]
    }
   ],
   "source": [
    "current_year = 2024\n",
    "graduation_year = 2005\n",
    "years_after_graduation = current_year-graduation_year\n",
    "print (\"Years after graduation:\", years_after_graduation)\n",
    "\n"
   ]
  },
  {
   "cell_type": "markdown",
   "metadata": {},
   "source": [
    "7) How many years has Mr. Ahmed been working with law firm 'The Himalya Associates'. Create necesary variables and print the correct number of years in working in the firm"
   ]
  },
  {
   "cell_type": "code",
   "execution_count": 46,
   "metadata": {},
   "outputs": [
    {
     "name": "stdout",
     "output_type": "stream",
     "text": [
      "Years with The Himalaya Associate: 9\n"
     ]
    }
   ],
   "source": [
    "joining_year= 2015\n",
    "current_year = 2024\n",
    "years_with_firm = current_year - joining_year\n",
    "\n",
    "print (\"Years with The Himalaya Associate:\", years_with_firm)"
   ]
  },
  {
   "cell_type": "markdown",
   "metadata": {},
   "source": [
    "8)Convert the monthly income of Mr. Ahmed in dollars.  Create necesary variables and print the income in dollars."
   ]
  },
  {
   "cell_type": "code",
   "execution_count": 47,
   "metadata": {},
   "outputs": [
    {
     "name": "stdout",
     "output_type": "stream",
     "text": [
      "Monthly income in USD: 719.4244604316547\n"
     ]
    }
   ],
   "source": [
    "monthly_income_PKR = 200000\n",
    "exchange_rate = 278\n",
    "monthly_income_USD = monthly_income_PKR/exchange_rate\n",
    "\n",
    "print (\"Monthly income in USD:\", monthly_income_USD)\n"
   ]
  },
  {
   "cell_type": "markdown",
   "metadata": {},
   "source": [
    "9) Check if the income in dollars is a float or integer value. if it is float, re-write the code so that income gets converted in integer. print the income in integer type value"
   ]
  },
  {
   "cell_type": "code",
   "execution_count": 48,
   "metadata": {},
   "outputs": [
    {
     "name": "stdout",
     "output_type": "stream",
     "text": [
      "719\n",
      "<class 'int'>\n"
     ]
    }
   ],
   "source": [
    "income = 719.4244604316547\n",
    "if  isinstance (income,float):\n",
    "    income = int (round(income))\n",
    "\n",
    "print (income)\n",
    "print (type(income))\n",
    "\n"
   ]
  },
  {
   "cell_type": "raw",
   "metadata": {},
   "source": [
    "10) Print the type of Mr. Ahmed's weight. Convert the weight of Mr. Ahmed in kg so that weight must be a integer value. "
   ]
  },
  {
   "cell_type": "code",
   "execution_count": 49,
   "metadata": {},
   "outputs": [
    {
     "name": "stdout",
     "output_type": "stream",
     "text": [
      "<class 'int'>\n",
      "Weight in kg: 70\n",
      "Type of weight: <class 'int'>\n"
     ]
    }
   ],
   "source": [
    "\n",
    "print (type(weight))\n",
    "\n",
    "weight_kg = int (weight/1000)\n",
    "print (\"Weight in kg:\", weight_kg)\n",
    "print (\"Type of weight:\",type(weight_kg))\n",
    "\n",
    "\n"
   ]
  },
  {
   "cell_type": "markdown",
   "metadata": {},
   "source": [
    "print the year of birth of Mr. Ahmed."
   ]
  },
  {
   "cell_type": "code",
   "execution_count": 50,
   "metadata": {},
   "outputs": [
    {
     "name": "stdout",
     "output_type": "stream",
     "text": [
      "Year of birth: 1975\n"
     ]
    }
   ],
   "source": [
    "\n",
    "#year of birth\n",
    "\n",
    "birth_year = graduation_year - age\n",
    "print (\"Year of birth:\",birth_year)#type your code here\n"
   ]
  },
  {
   "cell_type": "markdown",
   "metadata": {},
   "source": [
    "12) Can Rs. 100 be divided equally among 6 students? \n",
    "HINT: % operator"
   ]
  },
  {
   "cell_type": "code",
   "execution_count": 51,
   "metadata": {},
   "outputs": [
    {
     "name": "stdout",
     "output_type": "stream",
     "text": [
      "Rs 100 can not be divided eqaully among 6 students.\n"
     ]
    }
   ],
   "source": [
    "amount = 100\n",
    "number_of_students = 6\n",
    "if amount % number_of_students ==0:\n",
    "    print (\"Rs 100 can be divided eqaully among 6 students.\")\n",
    "else:\n",
    "    \n",
    "    print (\"Rs 100 can not be divided eqaully among 6 students.\")"
   ]
  },
  {
   "cell_type": "markdown",
   "metadata": {},
   "source": [
    "# Topic: User input"
   ]
  },
  {
   "cell_type": "markdown",
   "metadata": {},
   "source": [
    "13) Take students detail as user input on console. Like \n",
    "name \n",
    "father name \n",
    "contact\n",
    "email\n",
    "Course\n",
    "Address\n",
    "Days \n",
    "Timings \n",
    "And print a formatted id card of student \n",
    "\n",
    "\n",
    "                                 Saylani Mass IT Training Program\n",
    "                                 _________________________________\n",
    "                                         Bahdurabad Campus (HO)\n",
    "                    Student Name: Babar Shoukat\n",
    "                    Father Name : Shoukat Ali\n",
    "                    Course      : Data Science and Artificial Intelligence \n",
    "                    Days        : Monday & Thursday \n",
    "                    Timings     : 7pm - 09pm\n",
    "                    Email       : mb4383886@gmail.com\n",
    "                    Contact     : 03046626007\n",
    "                    Address     : House no 587 hanifabad sec 10 orangi town karachi\n",
    "                    \n",
    "                    \n",
    "                    Saylani Welfare International Trust Head Office (Bahadurabad Karachi)\n",
    "                    \n",
    "                    \n",
    "                    \n",
    "                    "
   ]
  },
  {
   "cell_type": "markdown",
   "metadata": {},
   "source": [
    "# Topic : Operators and Expression with ambiguity"
   ]
  },
  {
   "cell_type": "raw",
   "metadata": {
    "vscode": {
     "languageId": "raw"
    }
   },
   "source": [
    "14 ) What is the output of print(2 * 3 ** 3 * 4)\n",
    "\n",
    "a) 216\n",
    "b )864\n",
    "a"
   ]
  },
  {
   "cell_type": "raw",
   "metadata": {
    "vscode": {
     "languageId": "raw"
    }
   },
   "source": [
    "15 ) What is the output of the expression  print(-18 // 4)\n",
    "a) -4\n",
    "b)  4\n",
    "c) -5\n",
    "d)  5 \n",
    "c\n",
    " "
   ]
  },
  {
   "cell_type": "raw",
   "metadata": {
    "vscode": {
     "languageId": "raw"
    }
   },
   "source": [
    "16) \n",
    "x = 6\n",
    "y = 2\n",
    "print(x ** y)\n",
    "print(x // y)\n",
    "\n",
    "\n",
    "a) 66\n",
    "   0\n",
    "    \n",
    "b) 36\n",
    "   0\n",
    "    \n",
    "c) 66\n",
    "    3\n",
    "    \n",
    "d)  36\n",
    "    3\n",
    "    d"
   ]
  },
  {
   "cell_type": "raw",
   "metadata": {
    "vscode": {
     "languageId": "raw"
    }
   },
   "source": [
    "17)\n",
    "What is the output of print(10 - 4 * 2)\n",
    "\n",
    " a) 2\n",
    " \n",
    " \n",
    " b) 12\n",
    " a"
   ]
  },
  {
   "cell_type": "raw",
   "metadata": {
    "vscode": {
     "languageId": "raw"
    }
   },
   "source": [
    "18 ) What is the output of print(2%6)\n",
    "\n",
    " a) ValueError\n",
    " b) 0.33\n",
    " c) 2\n",
    " c"
   ]
  },
  {
   "cell_type": "raw",
   "metadata": {
    "vscode": {
     "languageId": "raw"
    }
   },
   "source": [
    "19) What is the value of the following Python Expression\n",
    "\n",
    "  print(36 / 4)\n",
    "\n",
    " a) 9.0\n",
    " b) 9\n",
    " a"
   ]
  },
  {
   "cell_type": "raw",
   "metadata": {
    "vscode": {
     "languageId": "raw"
    }
   },
   "source": [
    "20 ) In the Python statement x = a + 5 - b:\n",
    "\n",
    "a and b are ________\n",
    "a + 5 - b is ________\n",
    "\n",
    "\n",
    "a) operators, a statement\n",
    "\n",
    "\n",
    "b) operands, an expression\n",
    "\n",
    "c) terms, a group\n",
    "\n",
    "\n",
    "d) operands, an equation\n",
    "b"
   ]
  },
  {
   "cell_type": "raw",
   "metadata": {
    "vscode": {
     "languageId": "raw"
    }
   },
   "source": [
    "21) Should you use the == operator to determine whether objects of type float are equal?\n",
    "\n",
    "\n",
    "Sure! Go for it. # True\n",
    "\n",
    "\n",
    "Nope, not a good idea."
   ]
  },
  {
   "cell_type": "raw",
   "metadata": {
    "vscode": {
     "languageId": "raw"
    }
   },
   "source": [
    "22 ) What is the value of the expression 1 + 2 ** 3 * 4?\n",
    "\n",
    "a) 33\n",
    "\n",
    "\n",
    "b) 36\n",
    "\n",
    "\n",
    "c) 108\n",
    "\n",
    "\n",
    "d) 4097\n",
    "a"
   ]
  },
  {
   "cell_type": "code",
   "execution_count": null,
   "metadata": {},
   "outputs": [],
   "source": []
  }
 ],
 "metadata": {
  "kernelspec": {
   "display_name": "Python 3 (ipykernel)",
   "language": "python",
   "name": "python3"
  },
  "language_info": {
   "codemirror_mode": {
    "name": "ipython",
    "version": 3
   },
   "file_extension": ".py",
   "mimetype": "text/x-python",
   "name": "python",
   "nbconvert_exporter": "python",
   "pygments_lexer": "ipython3",
   "version": "3.11.7"
  }
 },
 "nbformat": 4,
 "nbformat_minor": 4
}
